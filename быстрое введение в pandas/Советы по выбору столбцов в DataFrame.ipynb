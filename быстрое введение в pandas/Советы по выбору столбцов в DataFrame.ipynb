{
  "cells": [
    {
      "cell_type": "markdown",
      "metadata": {
        "id": "view-in-github",
        "colab_type": "text"
      },
      "source": [
        "<a href=\"https://colab.research.google.com/github/svetaepc/Python_START/blob/hw_work/%D0%B1%D1%8B%D1%81%D1%82%D1%80%D0%BE%D0%B5%20%D0%B2%D0%B2%D0%B5%D0%B4%D0%B5%D0%BD%D0%B8%D0%B5%20%D0%B2%20pandas/%D0%A1%D0%BE%D0%B2%D0%B5%D1%82%D1%8B%20%D0%BF%D0%BE%20%D0%B2%D1%8B%D0%B1%D0%BE%D1%80%D1%83%20%D1%81%D1%82%D0%BE%D0%BB%D0%B1%D1%86%D0%BE%D0%B2%20%D0%B2%20DataFrame.ipynb\" target=\"_parent\"><img src=\"https://colab.research.google.com/assets/colab-badge.svg\" alt=\"Open In Colab\"/></a>"
      ]
    },
    {
      "cell_type": "markdown",
      "metadata": {
        "id": "giJ8W5HBsa-Q"
      },
      "source": [
        "# Советы по выбору столбцов в DataFrame\n",
        "\n",
        "<a href=\"https://t.me/init_python\"><img src=\"https://dfedorov.spb.ru/pandas/logo-telegram.png\" width=\"35\" height=\"35\" alt=\"telegram\" align=\"left\"></a>"
      ]
    },
    {
      "cell_type": "markdown",
      "metadata": {
        "id": "Uf4m0R1Vsa-S"
      },
      "source": [
        "<a href=\"https://colab.research.google.com/github/dm-fedorov/pandas_basic/blob/master/быстрое%20введение%20в%20pandas/Советы%20по%20выбору%20столбцов%20в%20DataFrame.ipynb\"><img align=\"left\" src=\"https://colab.research.google.com/assets/colab-badge.svg\" alt=\"Open in Colab\" title=\"Open and Execute in Google Colaboratory\" target=\"_blank\"></a>"
      ]
    },
    {
      "cell_type": "markdown",
      "metadata": {
        "id": "CU9fAg52sa-T"
      },
      "source": [
        "## Введение\n",
        "\n",
        "В этом Блокноте мы обсудим несколько советов по использованию [`iloc`](https://pandas.pydata.org/pandas-docs/stable/reference/api/pandas.DataFrame.iloc.html) для работы с набором данных, содержащим большое количество столбцов. Даже если у вас есть некоторый опыт использования [`iloc`](https://pandas.pydata.org/pandas-docs/stable/reference/api/pandas.DataFrame.iloc.html), следует изучить пару полезных приемов, чтобы ускорить анализ и избежать ввода большого количества имен столбцов в коде.\n",
        "\n",
        "> Оригинал статьи Криса [тут](https://pbpython.com/selecting-columns.html)\n",
        "\n",
        "## Почему мы заботимся о выборе столбцов?\n",
        "\n",
        "Во многих стандартных примерах, встречающихся в науке о данных, относительно небольшое число столбцов. Например, в наборе данных `Titanic` их 8, у `Iris` - 4, а у `Boston Housing` - 14. Реальные же наборы данных - грязные и часто включают множество дополнительных (потенциально ненужных) столбцов.\n",
        "\n",
        "В процессе анализа данных вам может потребоваться выбрать подмножество столбцов по следующим причинам:\n",
        "\n",
        "- Фильтрация для включения отдельных столбцов позволяет уменьшить объем памяти и ускорить обработку данных.\n",
        "- Ограничение количества столбцов может уменьшить накладные расходы, связанные с хранением модели данных в вашей голове (см. [Магическое число семь плюс-минус два](https://ru.wikipedia.org/wiki/%D0%9C%D0%B0%D0%B3%D0%B8%D1%87%D0%B5%D1%81%D0%BA%D0%BE%D0%B5_%D1%87%D0%B8%D1%81%D0%BB%D0%BE_%D1%81%D0%B5%D0%BC%D1%8C_%D0%BF%D0%BB%D1%8E%D1%81-%D0%BC%D0%B8%D0%BD%D1%83%D1%81_%D0%B4%D0%B2%D0%B0)).\n",
        "- При изучении нового набора данных может потребоваться разбить задачу на управляемые части.\n",
        "- В некоторых случаях может потребоваться перебрать столбцы и выполнить вычисления или очистку, чтобы получить данные в формате, необходимом для дальнейшего анализа.\n",
        "- Ваши данные могут содержать лишнюю или повторяющуюся информацию.\n",
        "\n",
        "Описанные ниже приемы помогут сократить время, которое вы тратите на обработку столбцов данных.\n",
        "\n",
        "## Данные\n",
        "\n",
        "Чтобы проиллюстрировать некоторые примеры, я собираюсь использовать необычный [набор данных](https://data.cityofnewyork.us/Environment/2018-Central-Park-Squirrel-Census-Squirrel-Data/vfnx-vebw) из [переписи белок Центрального парка](https://www.thesquirrelcensus.com/). Да, видимо, в Центральном парке пытались подсчитать и занести в каталог белок. Я подумал, что это будет забавный пример для работы. \n",
        "\n",
        "Этот набор данных включает 3023 строки данных и 31 столбец. Хотя 31 столбец не является огромным количеством столбцов, это полезный пример для иллюстрации концепций, которые вы можете применить к данным с большим количеством столбцов.\n",
        "\n",
        "> *Прим. переводчика*: на сайте Центрального парка содержится [подробная инструкция](https://data.cityofnewyork.us/api/views/vfnx-vebw/files/038f2dd2-2eb6-4152-968a-b075705c9986?download=true&filename=User%20Guide%20_%20Central%20Park%20Squirrel%20Census%20Data%20Collection.docx) по работе с данными. Разберем ее подробно:\n",
        "\n",
        "В октябре 2018 года с помощью добровольцев-охотников за белками подсчитали количество белок в Центральном парке Нью-Йорка. В результате переписи белок был выпущен отчет. Параметры, включенные в отчет:\n",
        "\n",
        "- `X`: координата долготы точки наблюдения за белкой\n",
        "- `Y`: Координата широты точки наблюдения за белкой\n",
        "- `Unique Squirrel ID`: идентификационный ярлык для каждой обнаруженной белки. Тег состоит из `Hectare ID` + `Shift` + `Date` (MMDD) + `Hectare Squirrel Number`.\n",
        "- `Hectare`: ID тег, полученный из сетки гектаров, используемой для разделения и подсчета парковой зоны. Одна ось, которая проходит преимущественно с севера на юг, является числовой (1-42), а ось, которая проходит преимущественно с востока на запад, является алфавитной (A-I).\n",
        "- `Shift`: значение - `AM` или `PM`, чтобы указать, когда произошло наблюдение - утром или поздно вечером.\n",
        "- `Date`: объединение месяца, дня и года наблюдения (MMDDYYYY).\n",
        "- `Hectare Squirrel Number`: число в хронологической последовательности наблюдений за белками для отдельного наблюдения.\n",
        "- `Age`: значение `Adult` (Взрослый) or `Juvenile` (Несовершеннолетний).\n",
        "- `Primary Fur Color`: `Gray`, `Cinnamon` или `Black`.\n",
        "- `Highlight Fur Color`: дискретное значение или строковые значения, состоящие из `Gray`, `Cinnamon`, `Black` или `White`.\n",
        "- `Combination of Primary and Highlight Color`: комбинация двух предыдущих столбцов; в этом столбце приведены общие наблюдаемые перестановки основных цветов и оттенков.\n",
        "- `Color Notes`: иногда наблюдатели добавляли комментарии о состоянии беличьего меха. \n",
        "- `Location`: `Ground Plane` или `Above Ground`. Наблюдателям было дано указание отметить, где была белка, когда ее впервые заметили.\n",
        "- `Above Ground Sighter Measurement`: `FALSE` - для наблюдений за белками на плоскости земли.\n",
        "- `Specific Location`: Иногда наблюдатели добавляли комментарии о местонахождении белки.\n",
        "- `Running`: была замечена бегущая белка.\n",
        "- `Chasing`: белка, преследующая другую белку.\n",
        "- `Climbing`: белка, взбирающаяся на дерево или другой природный объект.\n",
        "- `Eating`: белка за едой.\n",
        "- `Foraging`: белка в поисках пищи.\n",
        "- `OtherActivities`: другая активность белки. \n",
        "- `Kuks`: веселое голосовое общение, используемое белками по разным причинам.\n",
        "- `Quaas`: удлиненное голосовое общение, которое может указывать на присутствие наземного хищника, такого как собака.\n",
        "- `Moans`: высокий голос, который может указывать на присутствие воздушного хищника, такого как ястреб.\n",
        "- `Tail Flags`: белка, ловящая хвост. Используется для увеличения размера белки и сбивания с толку соперников или хищников. \n",
        "- `Tail Twitches`: используется белкой для выражения интереса, любопытства.\n",
        "- `Approaches`: белка, приближающаяся к человеку в поисках еды.\n",
        "- `Indifferent`: белке было безразлично присутствие человека.\n",
        "- `Runs From`: белка убегает от людей, считая их угрозой.\n",
        "- `Other Interactions`: наблюдатель отмечает другие типы взаимодействий между белками и людьми.\n",
        "\n",
        "Уверен, теперь вы узнали много нового о поведении белок! \n",
        "\n",
        "Давайте начнем с чтения данных:"
      ]
    },
    {
      "cell_type": "code",
      "execution_count": null,
      "metadata": {
        "id": "9RRXcaqJsa-U"
      },
      "outputs": [],
      "source": [
        "import pandas as pd\n",
        "import numpy as np"
      ]
    },
    {
      "cell_type": "code",
      "execution_count": null,
      "metadata": {
        "id": "RmhKTpnnsa-V"
      },
      "outputs": [],
      "source": [
        "# прямая ссылка на данные: 'https://data.cityofnewyork.us/api/views/vfnx-vebw/rows.csv?accessType=DOWNLOAD&bom=true&format=true'\n",
        "\n",
        "# скачал набор на случай изменений в исходном:\n",
        "df = pd.read_csv('https://raw.githubusercontent.com/dm-fedorov/pandas_basic/master/%D0%B1%D1%8B%D1%81%D1%82%D1%80%D0%BE%D0%B5%20%D0%B2%D0%B2%D0%B5%D0%B4%D0%B5%D0%BD%D0%B8%D0%B5%20%D0%B2%20pandas/data/2018_Central_Park_Squirrel_Census_-_Squirrel_Data.csv')"
      ]
    },
    {
      "cell_type": "code",
      "execution_count": null,
      "metadata": {
        "id": "FGv6BxTIsa-V"
      },
      "outputs": [],
      "source": [
        "df.head()"
      ]
    },
    {
      "cell_type": "markdown",
      "metadata": {
        "id": "-IpsaySTsa-V"
      },
      "source": [
        "Иногда бывает сложно запомнить имена всех столбцов и их индекс. \n",
        "\n",
        "Вот простое решение: "
      ]
    },
    {
      "cell_type": "code",
      "execution_count": null,
      "metadata": {
        "id": "idZSHqQ8sa-W"
      },
      "outputs": [],
      "source": [
        "col_mapping = [f\"{c[0]}:{c[1]}\" for c in enumerate(df.columns)]"
      ]
    },
    {
      "cell_type": "markdown",
      "metadata": {
        "id": "T910Fyissa-W"
      },
      "source": [
        "Получился такой список:"
      ]
    },
    {
      "cell_type": "code",
      "execution_count": null,
      "metadata": {
        "id": "rkfkLHeCsa-W"
      },
      "outputs": [],
      "source": [
        "col_mapping"
      ]
    },
    {
      "cell_type": "markdown",
      "metadata": {
        "id": "7sPzDQ_bsa-W"
      },
      "source": [
        "## Использование iloc\n",
        "\n",
        "Основная функция, которую мы рассмотрим, - это [`iloc`](https://pandas.pydata.org/pandas-docs/stable/reference/api/pandas.DataFrame.iloc.html). \n",
        "\n",
        "Она используется для индексации на основе целых чисел. Поскольку функции `iloc` и `loc` могут принимать в качестве входных данных логический массив, бывают случаи, когда эти функции производят одинаковый вывод. Однако в рамках этого Блокнота я сосредоточусь только на выборе столбца с помощью `iloc`.\n",
        "\n",
        "Вот простой рисунок, иллюстрирующий основное использование `iloc`:\n",
        "\n",
        "![](https://raw.githubusercontent.com/dm-fedorov/pandas_basic/master/pic/iloc.png)\n",
        "\n",
        "Например, если вы хотите посмотреть столбец данных `Unique Squirrel ID` для всех строк:"
      ]
    },
    {
      "cell_type": "code",
      "execution_count": null,
      "metadata": {
        "id": "aHmxQyVOsa-X"
      },
      "outputs": [],
      "source": [
        "df.iloc[:, 2]"
      ]
    },
    {
      "cell_type": "markdown",
      "metadata": {
        "id": "VYfara3gsa-X"
      },
      "source": [
        "Посмотреть в дополнение к `Unique Squirrel ID` местоположение `X` и `Y` :"
      ]
    },
    {
      "cell_type": "code",
      "execution_count": null,
      "metadata": {
        "id": "5R35i-N2sa-X"
      },
      "outputs": [],
      "source": [
        "df.iloc[:, [0, 1, 2]]"
      ]
    },
    {
      "cell_type": "markdown",
      "metadata": {
        "id": "zbZaCCF9sa-X"
      },
      "source": [
        "Ввод всех столбцов не самый эффективный способ, поэтому можем использовать нотацию срезов:"
      ]
    },
    {
      "cell_type": "code",
      "execution_count": null,
      "metadata": {
        "id": "aRaY-CEOsa-X"
      },
      "outputs": [],
      "source": [
        "df.iloc[:, 0:3] # df.iloc[:, :3]"
      ]
    },
    {
      "cell_type": "markdown",
      "metadata": {
        "id": "dPTk92ZTsa-Y"
      },
      "source": [
        "Это даст тот же результат, что и выше.\n",
        "\n",
        "Если хочется объединить список целых чисел с нотацией среза? \n",
        "\n",
        "Можно попробовать что-то вроде такого:"
      ]
    },
    {
      "cell_type": "code",
      "execution_count": null,
      "metadata": {
        "id": "DlHXoz21sa-Y"
      },
      "outputs": [],
      "source": [
        "# произойдет ошибка: invalid syntax\n",
        "\n",
        "#df.iloc[:, [0:3, 15:19]]"
      ]
    },
    {
      "cell_type": "markdown",
      "metadata": {
        "id": "ILN1PVupsa-Y"
      },
      "source": [
        "или такого:"
      ]
    },
    {
      "cell_type": "code",
      "execution_count": null,
      "metadata": {
        "id": "G7fXbHR1sa-Y"
      },
      "outputs": [],
      "source": [
        "# произойдет ошибка: Too many indexers\n",
        "\n",
        "#df.iloc[:, 0:3,15:19]"
      ]
    },
    {
      "cell_type": "markdown",
      "metadata": {
        "id": "jCN67aKfsa-Y"
      },
      "source": [
        "Хммм... очевидно, это не работает.\n",
        "\n",
        "К счастью, есть объект NumPy [`r_`](https://numpy.org/doc/stable/reference/generated/numpy.r_.html), который может нам помочь. \n",
        "\n",
        "Объект `r_` \"преобразует объекты срезов в конкатенацию по первой оси\". \n",
        "\n",
        "Вот немного более сложный пример, демонстрирующий, как это работает:"
      ]
    },
    {
      "cell_type": "code",
      "execution_count": null,
      "metadata": {
        "id": "GmgnXxKksa-Y"
      },
      "outputs": [],
      "source": [
        "np.r_[0:3, 15:19, 24, 25]"
      ]
    },
    {
      "cell_type": "markdown",
      "metadata": {
        "id": "a_fMdj2Hsa-Z"
      },
      "source": [
        "Это круто! \n",
        "\n",
        "Объект `r_` преобразовал комбинацию целочисленных списков и нотации срезов в единый список, который мы можем передать `iloc`:"
      ]
    },
    {
      "cell_type": "code",
      "execution_count": null,
      "metadata": {
        "id": "wI0vqAx5sa-Z"
      },
      "outputs": [],
      "source": [
        "df.iloc[:, np.r_[0:3, 15:19, 24, 25]]"
      ]
    },
    {
      "cell_type": "markdown",
      "metadata": {
        "id": "u-CoOmo9sa-Z"
      },
      "source": [
        "Вот еще один совет: вы можете использовать эту нотацию при чтении данных с помощью `read_csv`:"
      ]
    },
    {
      "cell_type": "code",
      "execution_count": null,
      "metadata": {
        "id": "Y7cbELaosa-Z"
      },
      "outputs": [],
      "source": [
        "df_2 = pd.read_csv(\n",
        "    'https://raw.githubusercontent.com/dm-fedorov/pandas_basic/master/%D0%B1%D1%8B%D1%81%D1%82%D1%80%D0%BE%D0%B5%20%D0%B2%D0%B2%D0%B5%D0%B4%D0%B5%D0%BD%D0%B8%D0%B5%20%D0%B2%20pandas/data/2018_Central_Park_Squirrel_Census_-_Squirrel_Data.csv',\n",
        "    usecols=np.r_[1, 2, 5:8, 15:25]\n",
        ")"
      ]
    },
    {
      "cell_type": "code",
      "execution_count": null,
      "metadata": {
        "id": "L708DsTysa-Z"
      },
      "outputs": [],
      "source": [
        "df_2.head()"
      ]
    },
    {
      "cell_type": "markdown",
      "metadata": {
        "id": "rGKOrobDsa-Z"
      },
      "source": [
        "Я считаю эту нотацию полезной, когда есть набор данных, в котором вы хотите оставить столбцы и не хотите вводить их полные имена.\n",
        "\n",
        "> Нужно быть осторожным при использовании нотации среза и помнить, что последнее число в диапазоне не включается в сгенерированный список чисел.\n",
        "\n",
        "Например, если мы укажем диапазон `2:4`, мы получим только список из `2` и `3`:"
      ]
    },
    {
      "cell_type": "code",
      "execution_count": null,
      "metadata": {
        "id": "BsDeJyZesa-a"
      },
      "outputs": [],
      "source": [
        "np.r_[2:4]"
      ]
    },
    {
      "cell_type": "markdown",
      "metadata": {
        "id": "VA9KSNwPsa-a"
      },
      "source": [
        "Если вы хотите включить индекс столбца `4`, используйте `np.r_[2:5]`.\n",
        "\n",
        "У `np.r_` есть необязательный аргумент `step`. \n",
        "\n",
        "В следующем примере можем указать, что список будет увеличиваться на 2:"
      ]
    },
    {
      "cell_type": "code",
      "execution_count": null,
      "metadata": {
        "id": "CqcB5IQJsa-a"
      },
      "outputs": [],
      "source": [
        "np.r_[2:10:2]"
      ]
    },
    {
      "cell_type": "markdown",
      "metadata": {
        "id": "V059x446sa-a"
      },
      "source": [
        "## iloc и логические массивы\n",
        "\n",
        "Один из наиболее эффективных способов фильтрации столбцов - передать в `iloc` логический массив. \n",
        "\n",
        "Самая важная идея заключается в том, что мы не создаем логический массив вручную, а используем вывод другой функции pandas для генерации массива и передачи его в `iloc`.\n",
        "\n",
        "В данном случае можем использовать метод доступа `str` для индекса столбца, как и любой другой столбец данных pandas. Это сгенерирует необходимый логический массив, который ожидает `iloc`. \n",
        "\n",
        "Например, хотим увидеть, название каких столбцов содержит слово `run`:"
      ]
    },
    {
      "cell_type": "code",
      "execution_count": null,
      "metadata": {
        "id": "hijVlDpvsa-a"
      },
      "outputs": [],
      "source": [
        "# https://pandas.pydata.org/pandas-docs/stable/reference/api/pandas.Series.str.contains.html\n",
        "\n",
        "run_cols = df.columns.str.contains('run', case=False) # не чувствительный к регистру\n",
        "run_cols"
      ]
    },
    {
      "cell_type": "markdown",
      "metadata": {
        "id": "wMbBDAWEsa-b"
      },
      "source": [
        "Передадим новый массив логических значений в `iloc`, чтобы выбрать два столбца:"
      ]
    },
    {
      "cell_type": "code",
      "execution_count": null,
      "metadata": {
        "id": "9gRbH7nfsa-b"
      },
      "outputs": [],
      "source": [
        "df.iloc[:, run_cols].head()"
      ]
    },
    {
      "cell_type": "markdown",
      "metadata": {
        "id": "75_chOnisa-b"
      },
      "source": [
        "На практике чаще используют лямбда-функцию:"
      ]
    },
    {
      "cell_type": "code",
      "execution_count": null,
      "metadata": {
        "id": "OX4g10wWsa-b"
      },
      "outputs": [],
      "source": [
        "df.iloc[:, lambda df:df.columns.str.contains('run', \n",
        "                                             case=False)].head()"
      ]
    },
    {
      "cell_type": "markdown",
      "metadata": {
        "id": "qcUY7b6Lsa-b"
      },
      "source": [
        "Преимущество в использовании функций `str` заключаются в том, что вы можете усложнить работу с потенциальными параметрами фильтрации. \n",
        "\n",
        "Например, если мы хотим, чтобы все столбцы содержали в названии `Color` или `Tail`:"
      ]
    },
    {
      "cell_type": "code",
      "execution_count": null,
      "metadata": {
        "id": "ydmK4XMZsa-b"
      },
      "outputs": [],
      "source": [
        "df.iloc[:, lambda df: df.columns.str.contains('Color|Tail',\n",
        "                                              case=False)].head()"
      ]
    },
    {
      "cell_type": "markdown",
      "metadata": {
        "id": "a35bPZvdsa-c"
      },
      "source": [
        "Мы можем объединить все эти концепции вместе, используя результаты логического массива для получения индекса, а затем использовать `np.r_` для объединения списков.\n",
        "\n",
        "> Пример ниже можно упростить, используя `filter`. \n",
        "\n",
        "Вот пример, в котором мы хотим получить все столбцы, связанные с `Color` или `Tail`, а также `Unique Squirrel ID` белки:"
      ]
    },
    {
      "cell_type": "code",
      "execution_count": null,
      "metadata": {
        "id": "kbTj8yupsa-c"
      },
      "outputs": [],
      "source": [
        "color_cols = df.columns.str.contains('Color|Tail', case=False)\n",
        "color_cols"
      ]
    },
    {
      "cell_type": "code",
      "execution_count": null,
      "metadata": {
        "id": "QG7nCpoOsa-c"
      },
      "outputs": [],
      "source": [
        "color_indices = [i for i, col in enumerate(color_cols) if col]\n",
        "color_indices"
      ]
    },
    {
      "cell_type": "code",
      "execution_count": null,
      "metadata": {
        "id": "EHTq_R8dsa-c"
      },
      "outputs": [],
      "source": [
        "df.iloc[:, np.r_[0:3, color_indices]].head()"
      ]
    },
    {
      "cell_type": "markdown",
      "metadata": {
        "id": "s65ORkrosa-c"
      },
      "source": [
        "## Фильтр\n",
        "\n",
        "В исходном Блокноте я не включил никакой информации об использовании [`filter`](https://pandas.pydata.org/pandas-docs/stable/reference/api/pandas.DataFrame.filter.html) для выбора столбцов. `filter` звучит так, будто его следует использовать для фильтрации данных, а не имен столбцов. К счастью, в pandas вы можете использовать `filter` для выбора столбцов!\n",
        "\n",
        "Если вы хотите выбрать столбцы, в названии которых встречается `Color`, то можете использовать следующий код:"
      ]
    },
    {
      "cell_type": "code",
      "execution_count": null,
      "metadata": {
        "id": "DHm6dF_9sa-d"
      },
      "outputs": [],
      "source": [
        "df.filter(like='Color')"
      ]
    },
    {
      "cell_type": "markdown",
      "metadata": {
        "id": "hX8lobg9sa-d"
      },
      "source": [
        "Вы можете использовать регулярное выражение, чтобы найти столбцы, содержащие один или несколько шаблонов:"
      ]
    },
    {
      "cell_type": "code",
      "execution_count": null,
      "metadata": {
        "id": "R-6GrIXzsa-d"
      },
      "outputs": [],
      "source": [
        "df.filter(regex='ing|Date')"
      ]
    },
    {
      "cell_type": "markdown",
      "metadata": {
        "id": "AzJQP_ocsa-d"
      },
      "source": [
        "Пример, показанный выше, можно более лаконично записать с помощью `filter`:"
      ]
    },
    {
      "cell_type": "code",
      "execution_count": null,
      "metadata": {
        "id": "EhmEvqvWsa-d"
      },
      "outputs": [],
      "source": [
        "df.filter(regex='Color|Tail')"
      ]
    },
    {
      "cell_type": "markdown",
      "metadata": {
        "id": "sIp211w0sa-d"
      },
      "source": [
        "> Предостережение: имейте в виду, что при изменении порядка следования столбцов могут возникнуть сложности при обработке данных показанным выше способом."
      ]
    },
    {
      "cell_type": "markdown",
      "metadata": {
        "id": "kZpu5xtdsa-e"
      },
      "source": [
        "<a href=\"https://t.me/init_python\"><img src=\"https://dfedorov.spb.ru/pandas/logo-telegram.png\" width=\"35\" height=\"35\" alt=\"telegram\" align=\"left\"></a>"
      ]
    },
    {
      "cell_type": "code",
      "execution_count": null,
      "metadata": {
        "id": "Zwp4qv1_sa-e"
      },
      "outputs": [],
      "source": []
    }
  ],
  "metadata": {
    "kernelspec": {
      "display_name": "Python 3",
      "language": "python",
      "name": "python3"
    },
    "language_info": {
      "codemirror_mode": {
        "name": "ipython",
        "version": 3
      },
      "file_extension": ".py",
      "mimetype": "text/x-python",
      "name": "python",
      "nbconvert_exporter": "python",
      "pygments_lexer": "ipython3",
      "version": "3.8.3"
    },
    "colab": {
      "provenance": [],
      "include_colab_link": true
    }
  },
  "nbformat": 4,
  "nbformat_minor": 0
}