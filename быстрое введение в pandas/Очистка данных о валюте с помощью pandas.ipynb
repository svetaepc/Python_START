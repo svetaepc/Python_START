{
  "cells": [
    {
      "cell_type": "markdown",
      "metadata": {
        "id": "view-in-github",
        "colab_type": "text"
      },
      "source": [
        "<a href=\"https://colab.research.google.com/github/svetaepc/Python_START/blob/hw_work/%D0%B1%D1%8B%D1%81%D1%82%D1%80%D0%BE%D0%B5%20%D0%B2%D0%B2%D0%B5%D0%B4%D0%B5%D0%BD%D0%B8%D0%B5%20%D0%B2%20pandas/%D0%9E%D1%87%D0%B8%D1%81%D1%82%D0%BA%D0%B0%20%D0%B4%D0%B0%D0%BD%D0%BD%D1%8B%D1%85%20%D0%BE%20%D0%B2%D0%B0%D0%BB%D1%8E%D1%82%D0%B5%20%D1%81%20%D0%BF%D0%BE%D0%BC%D0%BE%D1%89%D1%8C%D1%8E%20pandas.ipynb\" target=\"_parent\"><img src=\"https://colab.research.google.com/assets/colab-badge.svg\" alt=\"Open In Colab\"/></a>"
      ]
    },
    {
      "cell_type": "markdown",
      "metadata": {
        "id": "LJQNce7Xxa-l"
      },
      "source": [
        "# Очистка данных о валюте с помощью pandas\n",
        "\n",
        "<a href=\"https://t.me/init_python\"><img src=\"https://dfedorov.spb.ru/pandas/logo-telegram.png\" width=\"35\" height=\"35\" alt=\"telegram\" align=\"left\"></a>"
      ]
    },
    {
      "cell_type": "markdown",
      "metadata": {
        "id": "oo4dqNVpxa-m"
      },
      "source": [
        "<img src=\"https://raw.githubusercontent.com/dm-fedorov/pandas_basic/master/pic/currency_cleanup.png\">"
      ]
    },
    {
      "cell_type": "markdown",
      "metadata": {
        "id": "jzntdX6-xa-n"
      },
      "source": [
        "<a href=\"https://colab.research.google.com/github/dm-fedorov/pandas_basic/blob/master/быстрое%20введение%20в%20pandas/Очистка%20данных%20о%20валюте%20с%20помощью%20pandas.ipynb\"><img align=\"left\" src=\"https://colab.research.google.com/assets/colab-badge.svg\" alt=\"Open in Colab\" title=\"Open and Execute in Google Colaboratory\" target=\"_blank\"></a>"
      ]
    },
    {
      "cell_type": "markdown",
      "metadata": {
        "id": "G5FVmgFBxa-n"
      },
      "source": [
        "## Введение"
      ]
    },
    {
      "cell_type": "markdown",
      "metadata": {
        "id": "SIM1kQ_uxa-n"
      },
      "source": [
        "На днях я использовал pandas для очистки грязных данных `Excel`, которые включали несколько тысяч строк с плохо отформатированными значениями валют. Когда я попытался выполнить очистку, то понял, что это немного сложнее, чем я предполагал. Случайно, пару дней спустя я подписался на [ветку твиттера](https://twitter.com/TedPetrou/status/1187769954894057474), которая пролила некоторый свет на возникшую проблему. \n",
        "\n",
        "Данная статья суммирует мой опыт и описывает, как очистить грязные поля валюты и преобразовать их в числовые значения для дальнейшего анализа. Проиллюстрированные здесь концепции также могут применяться к другим типам задач очистки данных в pandas.\n",
        "\n",
        "> Оригинал статьи Криса [тут](https://pbpython.com/currency-cleanup.html)."
      ]
    },
    {
      "cell_type": "markdown",
      "metadata": {
        "id": "qEG2-k_rxa-o"
      },
      "source": [
        "## Данные"
      ]
    },
    {
      "cell_type": "markdown",
      "metadata": {
        "id": "zlY9Nlsxxa-o"
      },
      "source": [
        "Так выглядят грязные данные Excel:\n",
        "\n",
        "<img src=\"https://raw.githubusercontent.com/dm-fedorov/pandas_basic/master/pic/currency.png\">"
      ]
    },
    {
      "cell_type": "markdown",
      "metadata": {
        "id": "hC4id35Fxa-o"
      },
      "source": [
        "В этом примере данные представляют собой смесь значений с обозначением валюты `$` и значений без обозначения валюты. Для небольшого примера, подобного этому, вы можете очистить его в исходном файле. Однако, когда у вас большой набор данных (с введенными вручную данными), у вас не будет другого выбора, кроме как начать с грязных данных и очистить их в pandas.\n",
        "\n",
        "Прежде чем идти дальше, полезно просмотреть мою статью о [типах данных](https://pbpython.com/pandas_dtypes.html) (а [тут](http://dfedorov.spb.ru/pandas/%D0%9E%D0%B1%D0%B7%D0%BE%D1%80%20%D1%82%D0%B8%D0%BF%D0%BE%D0%B2%20%D0%B4%D0%B0%D0%BD%D0%BD%D1%8B%D1%85%20pandas.html) перевод статьи на русский язык). \n",
        "\n",
        "Фактически, работа над этой статьей заставила меня изменить мою исходную статью, чтобы уточнить типы данных, хранящиеся в столбцах `object`."
      ]
    },
    {
      "cell_type": "code",
      "execution_count": null,
      "metadata": {
        "id": "3LB-ZhDHxa-p"
      },
      "outputs": [],
      "source": [
        "import pandas as pd\n",
        "\n",
        "df_orig = pd.read_excel('https://github.com/dm-fedorov/pandas_basic/blob/master/%D0%B1%D1%8B%D1%81%D1%82%D1%80%D0%BE%D0%B5%20%D0%B2%D0%B2%D0%B5%D0%B4%D0%B5%D0%BD%D0%B8%D0%B5%20%D0%B2%20pandas/data/sales_cleanup.xlsx?raw=True')\n",
        "df = df_orig.copy()\n",
        "df"
      ]
    },
    {
      "cell_type": "markdown",
      "metadata": {
        "id": "lndGGjh-xa-q"
      },
      "source": [
        "Я прочитал данные и сделал их копию, чтобы сохранить оригинал. \n",
        "\n",
        "Первое, что я обычно делаю при загрузке данных, это проверяю типы:"
      ]
    },
    {
      "cell_type": "code",
      "execution_count": null,
      "metadata": {
        "id": "1l9Jdnaqxa-q"
      },
      "outputs": [],
      "source": [
        "df.dtypes"
      ]
    },
    {
      "cell_type": "markdown",
      "metadata": {
        "id": "wW9Cjhcbxa-q"
      },
      "source": [
        "Неудивительно, что столбец `Sales` (Продажи) хранится как `object`. Знаки `$` и `,` - это явные признаки того, что столбец `Sales` не является числовым. Скорее всего, мы захотим провести вычисления со столбцом, поэтому давайте попробуем преобразовать его в число с плавающей точкой.\n",
        "\n",
        "В реальном наборе данных не так легко заметить, что в столбце есть нечисловые значения. \n",
        "\n",
        "В моих данных я первым делом попытался использовать метод [`astype()`](https://pandas.pydata.org/docs/reference/api/pandas.Series.astype.html)."
      ]
    },
    {
      "cell_type": "code",
      "execution_count": null,
      "metadata": {
        "id": "kQTRhlu3xa-q"
      },
      "outputs": [],
      "source": [
        "# здесь получим ошибку:\n",
        "\n",
        "# df['Sales'].astype('float')"
      ]
    },
    {
      "cell_type": "markdown",
      "metadata": {
        "id": "plH6YsL_xa-r"
      },
      "source": [
        "Трассировка исключения включает `ValueError` и показывает, что не удалось преобразовать строку `$1,000.00` в число с плавающей точкой. Хорошо. Это легко исправить.\n",
        "\n",
        "Давайте попробуем удалить символы `$` и `,` с помощью [`str.replace()`](https://pandas.pydata.org/pandas-docs/stable/reference/api/pandas.Series.str.replace.html):"
      ]
    },
    {
      "cell_type": "code",
      "execution_count": null,
      "metadata": {
        "id": "T56Ynidpxa-r"
      },
      "outputs": [],
      "source": [
        "df['Sales'] = df['Sales'].str.replace(',', '')\n",
        "df['Sales'] = df['Sales'].str.replace('$', '')\n",
        "df['Sales']"
      ]
    },
    {
      "cell_type": "markdown",
      "metadata": {
        "id": "QadS2--Wxa-r"
      },
      "source": [
        "Хм. Я не ожидал этого. По какой-то причине строковые значения были очищены, но другие значения преобразованы в `NaN`. Это большая проблема.\n",
        "\n",
        "Честно говоря, именно такой результат я получил и потратил гораздо больше времени, чем следовало бы, пытаясь понять, что пошло не так. В конце концов я разобрался и расскажу о проблеме здесь, чтобы вы могли извлечь уроки из моей борьбы!\n",
        "\n",
        "В [ветке твиттера](https://twitter.com/TedPetrou/status/1187769954894057474) Теда Петру (Ted Petrou) и в [комментарии](https://twitter.com/__mharrison__/status/1187570690011983872) Мэтта Харрисона (Matt Harrison) резюмировали мою проблему и показали несколько полезных фрагментов кода, которые я опишу ниже.\n",
        "\n",
        "По сути, я предполагал, что столбец `object` содержит только строки. На самом деле столбец `object` может содержать смесь из нескольких типов данных.\n",
        "\n",
        "Давайте посмотрим на типы данных в этом наборе:"
      ]
    },
    {
      "cell_type": "code",
      "execution_count": null,
      "metadata": {
        "id": "MAAdvlgHxa-r"
      },
      "outputs": [],
      "source": [
        "df = df_orig.copy()\n",
        "df['Sales'].apply(type)"
      ]
    },
    {
      "cell_type": "markdown",
      "metadata": {
        "id": "a_FooFQJxa-s"
      },
      "source": [
        "Аааа! Это хорошо показывает проблему. \n",
        "\n",
        "Код [`apply(type)`](https://pandas.pydata.org/pandas-docs/stable/reference/api/pandas.Series.apply.html) выполняет функцию `type` для каждого значения в столбце. Как видите, некоторые значения являются числами с плавающей точкой, некоторые - целыми числами, а некоторые - строками. В целом столбец - это `object`.\n",
        "\n",
        "Вот два полезных совета, которые я теперь добавляю в свой набор инструментов (спасибо Теду и Мэтту), чтобы выявить эти проблемы на ранних этапах процесса анализа.\n",
        "\n",
        "Во-первых, мы можем добавить отформатированный столбец, показывающий каждый тип:"
      ]
    },
    {
      "cell_type": "code",
      "execution_count": null,
      "metadata": {
        "id": "aUzAlhb9xa-s"
      },
      "outputs": [],
      "source": [
        "df['Sales_Type'] = df['Sales'].apply(lambda x: type(x).__name__)\n",
        "df['Sales_Type']"
      ]
    },
    {
      "cell_type": "code",
      "execution_count": null,
      "metadata": {
        "id": "S65kK3OIxa-s"
      },
      "outputs": [],
      "source": [
        "df"
      ]
    },
    {
      "cell_type": "markdown",
      "metadata": {
        "id": "Gx4lt_Jtxa-s"
      },
      "source": [
        "Или вот более компактный способ проверить типы данных в столбце с помощью метода [`value_counts()`](https://pandas.pydata.org/pandas-docs/stable/reference/api/pandas.Series.value_counts.html):"
      ]
    },
    {
      "cell_type": "code",
      "execution_count": null,
      "metadata": {
        "id": "CUvMmoJhxa-s"
      },
      "outputs": [],
      "source": [
        "df['Sales'].apply(type).value_counts()"
      ]
    },
    {
      "cell_type": "markdown",
      "metadata": {
        "id": "e89zM_Eixa-t"
      },
      "source": [
        "Я обязательно буду использовать этот прием в своем повседневном анализе при работе со смешанными типами данных."
      ]
    },
    {
      "cell_type": "markdown",
      "metadata": {
        "id": "kDXMkuq0xa-t"
      },
      "source": [
        "## Устранение проблемы\n",
        "\n",
        "Чтобы проиллюстрировать проблему и предложить решение, я покажу краткий пример подобной проблемы, используя только стандартные типы данных Python. \n",
        "\n",
        "Сначала создайте числовую и строковую переменные:"
      ]
    },
    {
      "cell_type": "code",
      "execution_count": null,
      "metadata": {
        "id": "4r3sn-jqxa-t"
      },
      "outputs": [],
      "source": [
        "number = 1235\n",
        "number_string = '$1,235'\n",
        "print(type(number_string), type(number))"
      ]
    },
    {
      "cell_type": "markdown",
      "metadata": {
        "id": "lYULUcMZxa-t"
      },
      "source": [
        "Этот пример похож на наши данные, у нас есть строка и целое число. \n",
        "\n",
        "Если мы хотим очистить строку, чтобы удалить лишние символы и преобразовать ее в число с плавающей запятой:"
      ]
    },
    {
      "cell_type": "code",
      "execution_count": null,
      "metadata": {
        "id": "yTlw3eoTxa-t"
      },
      "outputs": [],
      "source": [
        "float(number_string.replace(',', '').replace('$', ''))"
      ]
    },
    {
      "cell_type": "markdown",
      "metadata": {
        "id": "JT-HEORKxa-t"
      },
      "source": [
        "Отлично!  \n",
        "\n",
        "Что произойдет, если мы попробуем то же самое с нашим целым числом?"
      ]
    },
    {
      "cell_type": "code",
      "execution_count": null,
      "metadata": {
        "id": "58d0VfLzxa-u"
      },
      "outputs": [],
      "source": [
        "# здесь произойдет исключение:\n",
        "\n",
        "# float(number.replace(',', '').replace('$', ''))"
      ]
    },
    {
      "cell_type": "markdown",
      "metadata": {
        "id": "GM5Hb4Qjxa-u"
      },
      "source": [
        "Вот в чем проблема. Мы получаем ошибку при попытке использовать строковые функции для целого числа.\n",
        "\n",
        "Когда pandas пытается применить аналогичный подход, используя метод доступа `str`, он возвращает `NaN` вместо ошибки. Вот почему числовые значения преобразуются в `NaN`.\n",
        "\n",
        "Решение - проверить, является ли значение строкой, а затем попытаться очистить его. В противном случае избегайте вызова строковых функций для числа.\n",
        "\n",
        "Первый подход - написать собственную функцию и использовать метод `apply`."
      ]
    },
    {
      "cell_type": "code",
      "execution_count": null,
      "metadata": {
        "id": "Te-XBC-Fxa-u"
      },
      "outputs": [],
      "source": [
        "def clean_currency(x):\n",
        "    \"\"\" Если значение является строкой, то удаляет символ валюты и разделители, \n",
        "    в противном случае - значение является числовым и может быть преобразовано.\n",
        "    \"\"\"\n",
        "    if isinstance(x, str):\n",
        "        return(x.replace('$', '').replace(',', ''))\n",
        "    return(x)"
      ]
    },
    {
      "cell_type": "markdown",
      "metadata": {
        "id": "RjV_hvjPxa-u"
      },
      "source": [
        "Эта функция проверяет, является ли указанное значение строкой, и, если да, удаляет все символы, которые нам не нужны. Если это не строка, то она вернет исходное значение.\n",
        "\n",
        "Далее ее вызываем и преобразуем результат в число с плавающей точкой. Также я показываю столбец с типами:"
      ]
    },
    {
      "cell_type": "code",
      "execution_count": null,
      "metadata": {
        "id": "TW5LwKTNxa-u"
      },
      "outputs": [],
      "source": [
        "df['Sales'] = df['Sales'].apply(clean_currency).astype('float')\n",
        "df['Sales']"
      ]
    },
    {
      "cell_type": "code",
      "execution_count": null,
      "metadata": {
        "id": "4NDhuVxGxa-u"
      },
      "outputs": [],
      "source": [
        "df['Sales_Type'] = df['Sales'].apply(lambda x: type(x).__name__)\n",
        "df['Sales_Type']"
      ]
    },
    {
      "cell_type": "code",
      "execution_count": null,
      "metadata": {
        "id": "NVDVsxckxa-v"
      },
      "outputs": [],
      "source": [
        "df"
      ]
    },
    {
      "cell_type": "markdown",
      "metadata": {
        "id": "fxVwhT-yxa-v"
      },
      "source": [
        "Мы можем проверить атрибут [`dtypes`](https://pandas.pydata.org/pandas-docs/stable/reference/api/pandas.DataFrame.dtypes.html):"
      ]
    },
    {
      "cell_type": "code",
      "execution_count": null,
      "metadata": {
        "id": "1WD2u7Vpxa-v"
      },
      "outputs": [],
      "source": [
        "df.dtypes"
      ]
    },
    {
      "cell_type": "markdown",
      "metadata": {
        "id": "doYIjWrIxa-v"
      },
      "source": [
        "Посмотрите на метод [`value_counts()`](https://pandas.pydata.org/pandas-docs/stable/reference/api/pandas.Series.value_counts.html):"
      ]
    },
    {
      "cell_type": "code",
      "execution_count": null,
      "metadata": {
        "id": "H8fZL0Yixa-v"
      },
      "outputs": [],
      "source": [
        "df['Sales'].apply(type).value_counts()"
      ]
    },
    {
      "cell_type": "markdown",
      "metadata": {
        "id": "YbGbvWMxxa-v"
      },
      "source": [
        "Все выглядит хорошо. \n",
        "\n",
        "Мы можем продолжить работу с любыми математическими функциям, которые нужно применить к столбцу с продажами. \n",
        "\n",
        "Прежде чем закончить, я приведу финальный пример того, как этого можно добиться с помощью лямбда-функции:"
      ]
    },
    {
      "cell_type": "code",
      "execution_count": null,
      "metadata": {
        "id": "5SZ2Z_6_xa-w"
      },
      "outputs": [],
      "source": [
        "df = df_orig.copy()\n",
        "df['Sales'] = df['Sales'].apply(lambda x: x.replace('$', '').replace(',', '')\n",
        "                                if isinstance(x, str) else x).astype(float)"
      ]
    },
    {
      "cell_type": "code",
      "execution_count": null,
      "metadata": {
        "id": "A2hjVOd5xa-w"
      },
      "outputs": [],
      "source": [
        "df['Sales']"
      ]
    },
    {
      "cell_type": "markdown",
      "metadata": {
        "id": "V2RnQ2wcxa-w"
      },
      "source": [
        "Лямбда-функция - это более компактный способ очистки и преобразования значения, но он может быть более трудным для понимания новыми пользователями. Мне лично нравится настраиваемая (custom) функция в этом случае. Особенно, если вам нужно очистить несколько столбцов.\n",
        "\n",
        "> Последнее предостережение, которое у меня есть, заключается в том, что вам все равно нужно понять свои данные, прежде чем выполнять эту очистку. Я предполагаю, что все значения продаж указаны в долларах. Это предположение может быть неверным. Если значения представлены в разных валютах, то потребуется разработать более сложный подход к очистке для преобразования в согласованный числовой формат.\n",
        "\n",
        "Модуль [`Pyjanitor`](https://pyjanitor.readthedocs.io/) имеет функцию, которая позволяет [конвертировать валюту](https://pyjanitor.readthedocs.io/reference/finance.html) и может быть полезным для более сложных задач."
      ]
    },
    {
      "cell_type": "markdown",
      "metadata": {
        "id": "LH2w1jv6xa-w"
      },
      "source": [
        "## Альтернативные решения\n",
        "\n",
        "После того, как я опубликовал статью, получил несколько советов об альтернативных способах решения. \n",
        "\n",
        "Первое предложение заключалось в использовании регулярного выражения для удаления нечисловых символов из строки."
      ]
    },
    {
      "cell_type": "code",
      "execution_count": null,
      "metadata": {
        "id": "KW26fbzPxa-w"
      },
      "outputs": [],
      "source": [
        "df = df_orig.copy()\n",
        "df"
      ]
    },
    {
      "cell_type": "code",
      "execution_count": null,
      "metadata": {
        "id": "AGrWkqooxa-x"
      },
      "outputs": [],
      "source": [
        "df['Sales'] = df['Sales'].replace({'\\$': '', ',': ''}, regex=True).astype(float)\n",
        "df['Sales']"
      ]
    },
    {
      "cell_type": "markdown",
      "metadata": {
        "id": "1w_39v3uxa-x"
      },
      "source": [
        "Этот подход использует метод [`Series.replace()`](https://pandas.pydata.org/pandas-docs/stable/reference/api/pandas.Series.replace.html). Он очень похож на подход с заменой строки, но на самом деле этот код правильно обрабатывает нестроковые значения.\n",
        "\n",
        "Иногда бывает сложно понять регулярные выражения. Тем не менее, это решение простое и я без колебаний использую его в реальном приложении. Спасибо Serg за указание на это.\n",
        "\n",
        "Другая альтернатива, указанная Иэном Динвуди (Iain Dinwoodie) и Serg, - преобразовать столбец в строку и безопасно использовать [`str.replace()`](https://pandas.pydata.org/pandas-docs/stable/reference/api/pandas.Series.str.replace.html).\n",
        "\n",
        "Сначала мы читаем данные и используем аргумент `dtype` в функции [`read_excel`](https://pandas.pydata.org/pandas-docs/stable/reference/api/pandas.read_excel.html), чтобы заставить исходный столбец данных сохраниться в виде строки:"
      ]
    },
    {
      "cell_type": "code",
      "execution_count": null,
      "metadata": {
        "id": "A71OI5t9xa-x"
      },
      "outputs": [],
      "source": [
        "df = pd.read_excel('https://github.com/dm-fedorov/pandas_basic/blob/master/%D0%B1%D1%8B%D1%81%D1%82%D1%80%D0%BE%D0%B5%20%D0%B2%D0%B2%D0%B5%D0%B4%D0%B5%D0%BD%D0%B8%D0%B5%20%D0%B2%20pandas/data/sales_cleanup.xlsx?raw=True', dtype={'Sales': str})\n",
        "df.head()"
      ]
    },
    {
      "cell_type": "markdown",
      "metadata": {
        "id": "M9mfab_cxa-x"
      },
      "source": [
        "Можем быстро это проверить:"
      ]
    },
    {
      "cell_type": "code",
      "execution_count": null,
      "metadata": {
        "id": "RGSuqrOjxa-x"
      },
      "outputs": [],
      "source": [
        "df['Sales'].apply(type).value_counts()"
      ]
    },
    {
      "cell_type": "markdown",
      "metadata": {
        "id": "NIHa_e5xxa-y"
      },
      "source": [
        "Затем примените очистку и преобразование типов:"
      ]
    },
    {
      "cell_type": "code",
      "execution_count": null,
      "metadata": {
        "id": "g8Cs8EdVxa-y"
      },
      "outputs": [],
      "source": [
        "df['Sales'] = df['Sales'].str.replace(',','').str.replace('$','').astype('float')"
      ]
    },
    {
      "cell_type": "code",
      "execution_count": null,
      "metadata": {
        "id": "FSEz-I8yxa-y"
      },
      "outputs": [],
      "source": [
        "df['Sales']"
      ]
    },
    {
      "cell_type": "markdown",
      "metadata": {
        "id": "8bIyPNvaxa-y"
      },
      "source": [
        "Поскольку все значения хранятся в виде строк, этот код работает правильно и не преобразует некоторые значения в `NaN`."
      ]
    },
    {
      "cell_type": "markdown",
      "metadata": {
        "id": "oteSISSWxa-y"
      },
      "source": [
        "# Резюме\n",
        "\n",
        "Тип данных `object` обычно используется для хранения строк. Однако вы не можете однозначно предполагать, что все типы данных в столбце `object` будут строками. Это может быть особенно запутанным при загрузке грязных данных о валюте, которые могут включать числовые значения с символами, а также целые числа и числа с плавающей точкой.\n",
        "\n",
        "Вполне возможно, что наивные подходы к очистке непреднамеренно преобразуют числовые значения в `NaN`. В этой статье показано, как использовать пару уловок, чтобы идентифицировать отдельные типы в столбце `object`, очищать их и преобразовывать в соответствующее числовое значение. Надеюсь, это оказалось полезным."
      ]
    },
    {
      "cell_type": "markdown",
      "metadata": {
        "id": "XMZ6rN3Bxa-y"
      },
      "source": [
        "<a href=\"https://t.me/init_python\"><img src=\"https://dfedorov.spb.ru/pandas/logo-telegram.png\" width=\"35\" height=\"35\" alt=\"telegram\" align=\"left\"></a>"
      ]
    },
    {
      "cell_type": "code",
      "execution_count": null,
      "metadata": {
        "id": "ysgMQO3pxa-y"
      },
      "outputs": [],
      "source": []
    }
  ],
  "metadata": {
    "kernelspec": {
      "display_name": "Python 3",
      "language": "python",
      "name": "python3"
    },
    "language_info": {
      "codemirror_mode": {
        "name": "ipython",
        "version": 3
      },
      "file_extension": ".py",
      "mimetype": "text/x-python",
      "name": "python",
      "nbconvert_exporter": "python",
      "pygments_lexer": "ipython3",
      "version": "3.8.3"
    },
    "colab": {
      "provenance": [],
      "include_colab_link": true
    }
  },
  "nbformat": 4,
  "nbformat_minor": 0
}