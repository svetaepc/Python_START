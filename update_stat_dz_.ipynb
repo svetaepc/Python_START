{
  "nbformat": 4,
  "nbformat_minor": 0,
  "metadata": {
    "colab": {
      "provenance": [],
      "authorship_tag": "ABX9TyOFu4ixk+WNXzrAhr3ZPT9f",
      "include_colab_link": true
    },
    "kernelspec": {
      "name": "python3",
      "display_name": "Python 3"
    },
    "language_info": {
      "name": "python"
    }
  },
  "cells": [
    {
      "cell_type": "markdown",
      "metadata": {
        "id": "view-in-github",
        "colab_type": "text"
      },
      "source": [
        "<a href=\"https://colab.research.google.com/github/svetaepc/Python_START/blob/master/update_stat_dz_.ipynb\" target=\"_parent\"><img src=\"https://colab.research.google.com/assets/colab-badge.svg\" alt=\"Open In Colab\"/></a>"
      ]
    },
    {
      "cell_type": "code",
      "source": [
        "import pandas as pd\n",
        "import numpy as np\n",
        "import matplotlib.pyplot as plt\n",
        "import seaborn as sns\n",
        "%matplotlib inline"
      ],
      "metadata": {
        "id": "HrCzYX1HTnOH"
      },
      "execution_count": 2,
      "outputs": []
    },
    {
      "cell_type": "markdown",
      "source": [
        "Цель - получить больше информации о лошадях, которые умерли или были подвергнуты эвтаназии."
      ],
      "metadata": {
        "id": "k8PPzvO8K4F4"
      }
    },
    {
      "cell_type": "code",
      "execution_count": 3,
      "metadata": {
        "id": "iZ2DVDlVTjFb"
      },
      "outputs": [],
      "source": [
        "list_columns = ['surgery?', 'age', 'rectal_temperature', 'pulse', 'respiratory_rate', \n",
        "                'temperature_of_extremities', 'pain', 'outcome']\n",
        "\n",
        "df = pd.read_csv('https://raw.githubusercontent.com/obulygin/pyda_homeworks/master/statistics_basics/horse_data.csv', header=None, \n",
        "                          na_values='?', usecols = [0, 1, 3, 4, 5, 6, 10, 22], names = list_columns)"
      ]
    },
    {
      "cell_type": "code",
      "source": [
        "df.sample(4)"
      ],
      "metadata": {
        "colab": {
          "base_uri": "https://localhost:8080/",
          "height": 175
        },
        "id": "U47dDP9uTvmI",
        "outputId": "c9e55313-4795-4e45-a3f1-de53825bd8c6"
      },
      "execution_count": 4,
      "outputs": [
        {
          "output_type": "execute_result",
          "data": {
            "text/plain": [
              "     surgery?  age  rectal_temperature  pulse  respiratory_rate  \\\n",
              "273       1.0    1                37.7  120.0              28.0   \n",
              "221       1.0    1                38.5   92.0              40.0   \n",
              "203       2.0    1                37.2   36.0               9.0   \n",
              "131       2.0    1                37.6   88.0              36.0   \n",
              "\n",
              "     temperature_of_extremities  pain  outcome  \n",
              "273                         3.0   5.0      2.0  \n",
              "221                         4.0   2.0      1.0  \n",
              "203                         1.0   2.0      1.0  \n",
              "131                         3.0   3.0      2.0  "
            ],
            "text/html": [
              "\n",
              "  <div id=\"df-afb036e0-bf6b-45d5-b186-29f0a373af7c\">\n",
              "    <div class=\"colab-df-container\">\n",
              "      <div>\n",
              "<style scoped>\n",
              "    .dataframe tbody tr th:only-of-type {\n",
              "        vertical-align: middle;\n",
              "    }\n",
              "\n",
              "    .dataframe tbody tr th {\n",
              "        vertical-align: top;\n",
              "    }\n",
              "\n",
              "    .dataframe thead th {\n",
              "        text-align: right;\n",
              "    }\n",
              "</style>\n",
              "<table border=\"1\" class=\"dataframe\">\n",
              "  <thead>\n",
              "    <tr style=\"text-align: right;\">\n",
              "      <th></th>\n",
              "      <th>surgery?</th>\n",
              "      <th>age</th>\n",
              "      <th>rectal_temperature</th>\n",
              "      <th>pulse</th>\n",
              "      <th>respiratory_rate</th>\n",
              "      <th>temperature_of_extremities</th>\n",
              "      <th>pain</th>\n",
              "      <th>outcome</th>\n",
              "    </tr>\n",
              "  </thead>\n",
              "  <tbody>\n",
              "    <tr>\n",
              "      <th>273</th>\n",
              "      <td>1.0</td>\n",
              "      <td>1</td>\n",
              "      <td>37.7</td>\n",
              "      <td>120.0</td>\n",
              "      <td>28.0</td>\n",
              "      <td>3.0</td>\n",
              "      <td>5.0</td>\n",
              "      <td>2.0</td>\n",
              "    </tr>\n",
              "    <tr>\n",
              "      <th>221</th>\n",
              "      <td>1.0</td>\n",
              "      <td>1</td>\n",
              "      <td>38.5</td>\n",
              "      <td>92.0</td>\n",
              "      <td>40.0</td>\n",
              "      <td>4.0</td>\n",
              "      <td>2.0</td>\n",
              "      <td>1.0</td>\n",
              "    </tr>\n",
              "    <tr>\n",
              "      <th>203</th>\n",
              "      <td>2.0</td>\n",
              "      <td>1</td>\n",
              "      <td>37.2</td>\n",
              "      <td>36.0</td>\n",
              "      <td>9.0</td>\n",
              "      <td>1.0</td>\n",
              "      <td>2.0</td>\n",
              "      <td>1.0</td>\n",
              "    </tr>\n",
              "    <tr>\n",
              "      <th>131</th>\n",
              "      <td>2.0</td>\n",
              "      <td>1</td>\n",
              "      <td>37.6</td>\n",
              "      <td>88.0</td>\n",
              "      <td>36.0</td>\n",
              "      <td>3.0</td>\n",
              "      <td>3.0</td>\n",
              "      <td>2.0</td>\n",
              "    </tr>\n",
              "  </tbody>\n",
              "</table>\n",
              "</div>\n",
              "      <button class=\"colab-df-convert\" onclick=\"convertToInteractive('df-afb036e0-bf6b-45d5-b186-29f0a373af7c')\"\n",
              "              title=\"Convert this dataframe to an interactive table.\"\n",
              "              style=\"display:none;\">\n",
              "        \n",
              "  <svg xmlns=\"http://www.w3.org/2000/svg\" height=\"24px\"viewBox=\"0 0 24 24\"\n",
              "       width=\"24px\">\n",
              "    <path d=\"M0 0h24v24H0V0z\" fill=\"none\"/>\n",
              "    <path d=\"M18.56 5.44l.94 2.06.94-2.06 2.06-.94-2.06-.94-.94-2.06-.94 2.06-2.06.94zm-11 1L8.5 8.5l.94-2.06 2.06-.94-2.06-.94L8.5 2.5l-.94 2.06-2.06.94zm10 10l.94 2.06.94-2.06 2.06-.94-2.06-.94-.94-2.06-.94 2.06-2.06.94z\"/><path d=\"M17.41 7.96l-1.37-1.37c-.4-.4-.92-.59-1.43-.59-.52 0-1.04.2-1.43.59L10.3 9.45l-7.72 7.72c-.78.78-.78 2.05 0 2.83L4 21.41c.39.39.9.59 1.41.59.51 0 1.02-.2 1.41-.59l7.78-7.78 2.81-2.81c.8-.78.8-2.07 0-2.86zM5.41 20L4 18.59l7.72-7.72 1.47 1.35L5.41 20z\"/>\n",
              "  </svg>\n",
              "      </button>\n",
              "      \n",
              "  <style>\n",
              "    .colab-df-container {\n",
              "      display:flex;\n",
              "      flex-wrap:wrap;\n",
              "      gap: 12px;\n",
              "    }\n",
              "\n",
              "    .colab-df-convert {\n",
              "      background-color: #E8F0FE;\n",
              "      border: none;\n",
              "      border-radius: 50%;\n",
              "      cursor: pointer;\n",
              "      display: none;\n",
              "      fill: #1967D2;\n",
              "      height: 32px;\n",
              "      padding: 0 0 0 0;\n",
              "      width: 32px;\n",
              "    }\n",
              "\n",
              "    .colab-df-convert:hover {\n",
              "      background-color: #E2EBFA;\n",
              "      box-shadow: 0px 1px 2px rgba(60, 64, 67, 0.3), 0px 1px 3px 1px rgba(60, 64, 67, 0.15);\n",
              "      fill: #174EA6;\n",
              "    }\n",
              "\n",
              "    [theme=dark] .colab-df-convert {\n",
              "      background-color: #3B4455;\n",
              "      fill: #D2E3FC;\n",
              "    }\n",
              "\n",
              "    [theme=dark] .colab-df-convert:hover {\n",
              "      background-color: #434B5C;\n",
              "      box-shadow: 0px 1px 3px 1px rgba(0, 0, 0, 0.15);\n",
              "      filter: drop-shadow(0px 1px 2px rgba(0, 0, 0, 0.3));\n",
              "      fill: #FFFFFF;\n",
              "    }\n",
              "  </style>\n",
              "\n",
              "      <script>\n",
              "        const buttonEl =\n",
              "          document.querySelector('#df-afb036e0-bf6b-45d5-b186-29f0a373af7c button.colab-df-convert');\n",
              "        buttonEl.style.display =\n",
              "          google.colab.kernel.accessAllowed ? 'block' : 'none';\n",
              "\n",
              "        async function convertToInteractive(key) {\n",
              "          const element = document.querySelector('#df-afb036e0-bf6b-45d5-b186-29f0a373af7c');\n",
              "          const dataTable =\n",
              "            await google.colab.kernel.invokeFunction('convertToInteractive',\n",
              "                                                     [key], {});\n",
              "          if (!dataTable) return;\n",
              "\n",
              "          const docLinkHtml = 'Like what you see? Visit the ' +\n",
              "            '<a target=\"_blank\" href=https://colab.research.google.com/notebooks/data_table.ipynb>data table notebook</a>'\n",
              "            + ' to learn more about interactive tables.';\n",
              "          element.innerHTML = '';\n",
              "          dataTable['output_type'] = 'display_data';\n",
              "          await google.colab.output.renderOutput(dataTable, element);\n",
              "          const docLink = document.createElement('div');\n",
              "          docLink.innerHTML = docLinkHtml;\n",
              "          element.appendChild(docLink);\n",
              "        }\n",
              "      </script>\n",
              "    </div>\n",
              "  </div>\n",
              "  "
            ]
          },
          "metadata": {},
          "execution_count": 4
        }
      ]
    },
    {
      "cell_type": "code",
      "source": [
        "df.isna().sum()"
      ],
      "metadata": {
        "id": "bE5pj-XjT3U6",
        "colab": {
          "base_uri": "https://localhost:8080/"
        },
        "outputId": "a1338f65-2035-454e-b3ea-a7c4aed100b0"
      },
      "execution_count": 5,
      "outputs": [
        {
          "output_type": "execute_result",
          "data": {
            "text/plain": [
              "surgery?                       1\n",
              "age                            0\n",
              "rectal_temperature            60\n",
              "pulse                         24\n",
              "respiratory_rate              58\n",
              "temperature_of_extremities    56\n",
              "pain                          55\n",
              "outcome                        1\n",
              "dtype: int64"
            ]
          },
          "metadata": {},
          "execution_count": 5
        }
      ]
    },
    {
      "cell_type": "code",
      "source": [
        "percent_missing = df.isnull().sum() * 100 / len(df)\n",
        "percent_missing"
      ],
      "metadata": {
        "colab": {
          "base_uri": "https://localhost:8080/"
        },
        "id": "c9jmzPoS7av2",
        "outputId": "1287635f-8cec-4606-94e2-888235286ca9"
      },
      "execution_count": 6,
      "outputs": [
        {
          "output_type": "execute_result",
          "data": {
            "text/plain": [
              "surgery?                       0.333333\n",
              "age                            0.000000\n",
              "rectal_temperature            20.000000\n",
              "pulse                          8.000000\n",
              "respiratory_rate              19.333333\n",
              "temperature_of_extremities    18.666667\n",
              "pain                          18.333333\n",
              "outcome                        0.333333\n",
              "dtype: float64"
            ]
          },
          "metadata": {},
          "execution_count": 6
        }
      ]
    },
    {
      "cell_type": "code",
      "source": [
        "df.dtypes.value_counts()"
      ],
      "metadata": {
        "colab": {
          "base_uri": "https://localhost:8080/"
        },
        "id": "ggJvZ91S736q",
        "outputId": "aa3df3ef-950f-4cac-9f45-4624f74eb01d"
      },
      "execution_count": 7,
      "outputs": [
        {
          "output_type": "execute_result",
          "data": {
            "text/plain": [
              "float64    7\n",
              "int64      1\n",
              "dtype: int64"
            ]
          },
          "metadata": {},
          "execution_count": 7
        }
      ]
    },
    {
      "cell_type": "code",
      "source": [
        "df['outcome'].value_counts()"
      ],
      "metadata": {
        "colab": {
          "base_uri": "https://localhost:8080/"
        },
        "id": "QmDBCNFkzMIB",
        "outputId": "612f991d-dd56-4db9-9fe6-0363f4949b3e"
      },
      "execution_count": 8,
      "outputs": [
        {
          "output_type": "execute_result",
          "data": {
            "text/plain": [
              "1.0    178\n",
              "2.0     77\n",
              "3.0     44\n",
              "Name: outcome, dtype: int64"
            ]
          },
          "metadata": {},
          "execution_count": 8
        }
      ]
    },
    {
      "cell_type": "code",
      "source": [
        "target=df['outcome']\n",
        "\n",
        "for i in range(len(df.columns)):\n",
        "  fig=plt.figure()\n",
        "  ax1=fig.add_subplot(1,1,1)\n",
        "  ax1.scatter(df[[df.columns[i]]], target)\n",
        "  #\n",
        "  ax1.set_title(df.columns[i])\n",
        "  #\n",
        "  ax1.set_xlabel(df.columns[i])\n",
        "  ax1.set_ylabel('outcome')"
      ],
      "metadata": {
        "colab": {
          "base_uri": "https://localhost:8080/",
          "height": 1000
        },
        "id": "4dcMT45V_BEi",
        "outputId": "34cbf042-9bc7-4043-e13d-7de751c0335a"
      },
      "execution_count": null,
      "outputs": [
        {
          "output_type": "display_data",
          "data": {
            "text/plain": [
              "<Figure size 432x288 with 1 Axes>"
            ],
            "image/png": "[encoded data removed]"
          },
          "metadata": {
            "needs_background": "light"
          }
        },
        {
          "output_type": "display_data",
          "data": {
            "text/plain": [
              "<Figure size 432x288 with 1 Axes>"
            ],
            "image/png": "[encoded data removed]"
          },
          "metadata": {
            "needs_background": "light"
          }
        },
        {
          "output_type": "display_data",
          "data": {
            "text/plain": [
              "<Figure size 432x288 with 1 Axes>"
            ],
            "image/png": "[encoded data removed]"
          },
          "metadata": {
            "needs_background": "light"
          }
        },
        {
          "output_type": "display_data",
          "data": {
            "text/plain": [
              "<Figure size 432x288 with 1 Axes>"
            ],
            "image/png": "[encoded data removed]"
          },
          "metadata": {
            "needs_background": "light"
          }
        },
        {
          "output_type": "display_data",
          "data": {
            "text/plain": [
              "<Figure size 432x288 with 1 Axes>"
            ],
            "image/png": "[encoded data removed]"
          },
          "metadata": {
            "needs_background": "light"
          }
        },
        {
          "output_type": "display_data",
          "data": {
            "text/plain": [
              "<Figure size 432x288 with 1 Axes>"
            ],
            "image/png": "[encoded data removed]"
          },
          "metadata": {
            "needs_background": "light"
          }
        },
        {
          "output_type": "display_data",
          "data": {
            "text/plain": [
              "<Figure size 432x288 with 1 Axes>"
            ],
            "image/png": "[encoded data removed]"
          },
          "metadata": {
            "needs_background": "light"
          }
        },
        {
          "output_type": "display_data",
          "data": {
            "text/plain": [
              "<Figure size 432x288 with 1 Axes>"
            ],
            "image/png": "[encoded data removed]"
          },
          "metadata": {
            "needs_background": "light"
          }
        }
      ]
    },
    {
      "cell_type": "code",
      "source": [
        "sns.heatmap(df.isnull(),cbar=False, cmap='Pastel1')"
      ],
      "metadata": {
        "colab": {
          "base_uri": "https://localhost:8080/",
          "height": 416
        },
        "id": "mQQrGKRv3jlI",
        "outputId": "c2ee9ca5-dc9d-46f3-b123-ed3288c4e8ea"
      },
      "execution_count": 9,
      "outputs": [
        {
          "output_type": "execute_result",
          "data": {
            "text/plain": [
              "<matplotlib.axes._subplots.AxesSubplot at 0x7fb3a9f26310>"
            ]
          },
          "metadata": {},
          "execution_count": 9
        },
        {
          "output_type": "display_data",
          "data": {
            "text/plain": [
              "<Figure size 432x288 with 1 Axes>"
            ],
            "image/png": "[encoded data removed]"
          },
          "metadata": {
            "needs_background": "light"
          }
        }
      ]
    },
    {
      "cell_type": "code",
      "source": [
        "null = df.isnull().sum()\n",
        "\n",
        "plt.figure(figsize=(20,10))\n",
        "plt.bar(range(len(null)),null)\n",
        "plt.xlabel('Features')\n",
        "plt.ylabel('missing')\n",
        "plt.xticks(list(range(len(df.columns))), list(df.columns.values), rotation='vertical')\n",
        "plt.show"
      ],
      "metadata": {
        "colab": {
          "base_uri": "https://localhost:8080/",
          "height": 752
        },
        "id": "O2vZx6xr3x2g",
        "outputId": "e54a9c22-b64c-476c-99f6-7184145c66d7"
      },
      "execution_count": 10,
      "outputs": [
        {
          "output_type": "execute_result",
          "data": {
            "text/plain": [
              "<function matplotlib.pyplot.show(*args, **kw)>"
            ]
          },
          "metadata": {},
          "execution_count": 10
        },
        {
          "output_type": "display_data",
          "data": {
            "text/plain": [
              "<Figure size 1440x720 with 1 Axes>"
            ],
            "image/png": "[encoded data removed]"
          },
          "metadata": {
            "needs_background": "light"
          }
        }
      ]
    },
    {
      "cell_type": "code",
      "source": [
        "df.dtypes"
      ],
      "metadata": {
        "colab": {
          "base_uri": "https://localhost:8080/"
        },
        "id": "sUOscPNT37z3",
        "outputId": "52de4d34-e178-4271-8640-9a321fa994ff"
      },
      "execution_count": 11,
      "outputs": [
        {
          "output_type": "execute_result",
          "data": {
            "text/plain": [
              "surgery?                      float64\n",
              "age                             int64\n",
              "rectal_temperature            float64\n",
              "pulse                         float64\n",
              "respiratory_rate              float64\n",
              "temperature_of_extremities    float64\n",
              "pain                          float64\n",
              "outcome                       float64\n",
              "dtype: object"
            ]
          },
          "metadata": {},
          "execution_count": 11
        }
      ]
    },
    {
      "cell_type": "code",
      "source": [
        "df.isna().sum()"
      ],
      "metadata": {
        "colab": {
          "base_uri": "https://localhost:8080/"
        },
        "id": "3AuqjhFK4X4v",
        "outputId": "77ff73e2-c405-41b8-b2ec-00a483af8706"
      },
      "execution_count": 12,
      "outputs": [
        {
          "output_type": "execute_result",
          "data": {
            "text/plain": [
              "surgery?                       1\n",
              "age                            0\n",
              "rectal_temperature            60\n",
              "pulse                         24\n",
              "respiratory_rate              58\n",
              "temperature_of_extremities    56\n",
              "pain                          55\n",
              "outcome                        1\n",
              "dtype: int64"
            ]
          },
          "metadata": {},
          "execution_count": 12
        }
      ]
    },
    {
      "cell_type": "code",
      "source": [
        "sns.pairplot(df.corr())\n",
        "\n",
        "plt.show()"
      ],
      "metadata": {
        "colab": {
          "base_uri": "https://localhost:8080/",
          "height": 1000
        },
        "id": "9MC1isurD6zx",
        "outputId": "50eb7c9f-b0ae-42d0-e5ed-d2aba172334e"
      },
      "execution_count": null,
      "outputs": [
        {
          "output_type": "display_data",
          "data": {
            "text/plain": [
              "<Figure size 1440x1440 with 72 Axes>"
            ],
            "image/png": "[encoded data removed]"
          },
          "metadata": {
            "needs_background": "light"
          }
        }
      ]
    },
    {
      "cell_type": "code",
      "source": [
        "df.sample(7)"
      ],
      "metadata": {
        "colab": {
          "base_uri": "https://localhost:8080/",
          "height": 269
        },
        "id": "Mupti5HEF48v",
        "outputId": "54972daf-a1b4-418a-90fd-88c7e271aa95"
      },
      "execution_count": null,
      "outputs": [
        {
          "output_type": "execute_result",
          "data": {
            "text/plain": [
              "     surgery?  age  rectal_temperature  pulse  respiratory_rate  \\\n",
              "236       2.0    1                38.2   42.0              26.0   \n",
              "38        2.0    1                38.6   52.0               NaN   \n",
              "64        1.0    1                39.0   64.0              36.0   \n",
              "248       1.0    1                38.0  108.0              60.0   \n",
              "79        1.0    1                37.5   96.0              18.0   \n",
              "125       1.0    1                38.0   42.0              68.0   \n",
              "60        2.0    1                37.8   48.0              32.0   \n",
              "\n",
              "     temperature_of_extremities  pain  outcome  \n",
              "236                         1.0   3.0      1.0  \n",
              "38                          1.0   3.0      1.0  \n",
              "64                          3.0   3.0      1.0  \n",
              "248                         2.0   4.0      1.0  \n",
              "79                          1.0   3.0      1.0  \n",
              "125                         4.0   3.0      1.0  \n",
              "60                          1.0   2.0      1.0  "
            ],
            "text/html": [
              "\n",
              "  <div id=\"df-38893df1-20a1-47d5-a140-5e79982375fd\">\n",
              "    <div class=\"colab-df-container\">\n",
              "      <div>\n",
              "<style scoped>\n",
              "    .dataframe tbody tr th:only-of-type {\n",
              "        vertical-align: middle;\n",
              "    }\n",
              "\n",
              "    .dataframe tbody tr th {\n",
              "        vertical-align: top;\n",
              "    }\n",
              "\n",
              "    .dataframe thead th {\n",
              "        text-align: right;\n",
              "    }\n",
              "</style>\n",
              "<table border=\"1\" class=\"dataframe\">\n",
              "  <thead>\n",
              "    <tr style=\"text-align: right;\">\n",
              "      <th></th>\n",
              "      <th>surgery?</th>\n",
              "      <th>age</th>\n",
              "      <th>rectal_temperature</th>\n",
              "      <th>pulse</th>\n",
              "      <th>respiratory_rate</th>\n",
              "      <th>temperature_of_extremities</th>\n",
              "      <th>pain</th>\n",
              "      <th>outcome</th>\n",
              "    </tr>\n",
              "  </thead>\n",
              "  <tbody>\n",
              "    <tr>\n",
              "      <th>236</th>\n",
              "      <td>2.0</td>\n",
              "      <td>1</td>\n",
              "      <td>38.2</td>\n",
              "      <td>42.0</td>\n",
              "      <td>26.0</td>\n",
              "      <td>1.0</td>\n",
              "      <td>3.0</td>\n",
              "      <td>1.0</td>\n",
              "    </tr>\n",
              "    <tr>\n",
              "      <th>38</th>\n",
              "      <td>2.0</td>\n",
              "      <td>1</td>\n",
              "      <td>38.6</td>\n",
              "      <td>52.0</td>\n",
              "      <td>NaN</td>\n",
              "      <td>1.0</td>\n",
              "      <td>3.0</td>\n",
              "      <td>1.0</td>\n",
              "    </tr>\n",
              "    <tr>\n",
              "      <th>64</th>\n",
              "      <td>1.0</td>\n",
              "      <td>1</td>\n",
              "      <td>39.0</td>\n",
              "      <td>64.0</td>\n",
              "      <td>36.0</td>\n",
              "      <td>3.0</td>\n",
              "      <td>3.0</td>\n",
              "      <td>1.0</td>\n",
              "    </tr>\n",
              "    <tr>\n",
              "      <th>248</th>\n",
              "      <td>1.0</td>\n",
              "      <td>1</td>\n",
              "      <td>38.0</td>\n",
              "      <td>108.0</td>\n",
              "      <td>60.0</td>\n",
              "      <td>2.0</td>\n",
              "      <td>4.0</td>\n",
              "      <td>1.0</td>\n",
              "    </tr>\n",
              "    <tr>\n",
              "      <th>79</th>\n",
              "      <td>1.0</td>\n",
              "      <td>1</td>\n",
              "      <td>37.5</td>\n",
              "      <td>96.0</td>\n",
              "      <td>18.0</td>\n",
              "      <td>1.0</td>\n",
              "      <td>3.0</td>\n",
              "      <td>1.0</td>\n",
              "    </tr>\n",
              "    <tr>\n",
              "      <th>125</th>\n",
              "      <td>1.0</td>\n",
              "      <td>1</td>\n",
              "      <td>38.0</td>\n",
              "      <td>42.0</td>\n",
              "      <td>68.0</td>\n",
              "      <td>4.0</td>\n",
              "      <td>3.0</td>\n",
              "      <td>1.0</td>\n",
              "    </tr>\n",
              "    <tr>\n",
              "      <th>60</th>\n",
              "      <td>2.0</td>\n",
              "      <td>1</td>\n",
              "      <td>37.8</td>\n",
              "      <td>48.0</td>\n",
              "      <td>32.0</td>\n",
              "      <td>1.0</td>\n",
              "      <td>2.0</td>\n",
              "      <td>1.0</td>\n",
              "    </tr>\n",
              "  </tbody>\n",
              "</table>\n",
              "</div>\n",
              "      <button class=\"colab-df-convert\" onclick=\"convertToInteractive('df-38893df1-20a1-47d5-a140-5e79982375fd')\"\n",
              "              title=\"Convert this dataframe to an interactive table.\"\n",
              "              style=\"display:none;\">\n",
              "        \n",
              "  <svg xmlns=\"http://www.w3.org/2000/svg\" height=\"24px\"viewBox=\"0 0 24 24\"\n",
              "       width=\"24px\">\n",
              "    <path d=\"M0 0h24v24H0V0z\" fill=\"none\"/>\n",
              "    <path d=\"M18.56 5.44l.94 2.06.94-2.06 2.06-.94-2.06-.94-.94-2.06-.94 2.06-2.06.94zm-11 1L8.5 8.5l.94-2.06 2.06-.94-2.06-.94L8.5 2.5l-.94 2.06-2.06.94zm10 10l.94 2.06.94-2.06 2.06-.94-2.06-.94-.94-2.06-.94 2.06-2.06.94z\"/><path d=\"M17.41 7.96l-1.37-1.37c-.4-.4-.92-.59-1.43-.59-.52 0-1.04.2-1.43.59L10.3 9.45l-7.72 7.72c-.78.78-.78 2.05 0 2.83L4 21.41c.39.39.9.59 1.41.59.51 0 1.02-.2 1.41-.59l7.78-7.78 2.81-2.81c.8-.78.8-2.07 0-2.86zM5.41 20L4 18.59l7.72-7.72 1.47 1.35L5.41 20z\"/>\n",
              "  </svg>\n",
              "      </button>\n",
              "      \n",
              "  <style>\n",
              "    .colab-df-container {\n",
              "      display:flex;\n",
              "      flex-wrap:wrap;\n",
              "      gap: 12px;\n",
              "    }\n",
              "\n",
              "    .colab-df-convert {\n",
              "      background-color: #E8F0FE;\n",
              "      border: none;\n",
              "      border-radius: 50%;\n",
              "      cursor: pointer;\n",
              "      display: none;\n",
              "      fill: #1967D2;\n",
              "      height: 32px;\n",
              "      padding: 0 0 0 0;\n",
              "      width: 32px;\n",
              "    }\n",
              "\n",
              "    .colab-df-convert:hover {\n",
              "      background-color: #E2EBFA;\n",
              "      box-shadow: 0px 1px 2px rgba(60, 64, 67, 0.3), 0px 1px 3px 1px rgba(60, 64, 67, 0.15);\n",
              "      fill: #174EA6;\n",
              "    }\n",
              "\n",
              "    [theme=dark] .colab-df-convert {\n",
              "      background-color: #3B4455;\n",
              "      fill: #D2E3FC;\n",
              "    }\n",
              "\n",
              "    [theme=dark] .colab-df-convert:hover {\n",
              "      background-color: #434B5C;\n",
              "      box-shadow: 0px 1px 3px 1px rgba(0, 0, 0, 0.15);\n",
              "      filter: drop-shadow(0px 1px 2px rgba(0, 0, 0, 0.3));\n",
              "      fill: #FFFFFF;\n",
              "    }\n",
              "  </style>\n",
              "\n",
              "      <script>\n",
              "        const buttonEl =\n",
              "          document.querySelector('#df-38893df1-20a1-47d5-a140-5e79982375fd button.colab-df-convert');\n",
              "        buttonEl.style.display =\n",
              "          google.colab.kernel.accessAllowed ? 'block' : 'none';\n",
              "\n",
              "        async function convertToInteractive(key) {\n",
              "          const element = document.querySelector('#df-38893df1-20a1-47d5-a140-5e79982375fd');\n",
              "          const dataTable =\n",
              "            await google.colab.kernel.invokeFunction('convertToInteractive',\n",
              "                                                     [key], {});\n",
              "          if (!dataTable) return;\n",
              "\n",
              "          const docLinkHtml = 'Like what you see? Visit the ' +\n",
              "            '<a target=\"_blank\" href=https://colab.research.google.com/notebooks/data_table.ipynb>data table notebook</a>'\n",
              "            + ' to learn more about interactive tables.';\n",
              "          element.innerHTML = '';\n",
              "          dataTable['output_type'] = 'display_data';\n",
              "          await google.colab.output.renderOutput(dataTable, element);\n",
              "          const docLink = document.createElement('div');\n",
              "          docLink.innerHTML = docLinkHtml;\n",
              "          element.appendChild(docLink);\n",
              "        }\n",
              "      </script>\n",
              "    </div>\n",
              "  </div>\n",
              "  "
            ]
          },
          "metadata": {},
          "execution_count": 21
        }
      ]
    },
    {
      "cell_type": "code",
      "source": [
        "df['outcome'].value_counts()"
      ],
      "metadata": {
        "colab": {
          "base_uri": "https://localhost:8080/"
        },
        "id": "vE6jjwHjy1xw",
        "outputId": "dc1dbd8b-5e1e-45bd-e478-76db7d3116d6"
      },
      "execution_count": 13,
      "outputs": [
        {
          "output_type": "execute_result",
          "data": {
            "text/plain": [
              "1.0    178\n",
              "2.0     77\n",
              "3.0     44\n",
              "Name: outcome, dtype: int64"
            ]
          },
          "metadata": {},
          "execution_count": 13
        }
      ]
    },
    {
      "cell_type": "code",
      "source": [
        "df['surgery?'].value_counts()"
      ],
      "metadata": {
        "colab": {
          "base_uri": "https://localhost:8080/"
        },
        "id": "GcCQRno__pdj",
        "outputId": "7f6e12d1-0df4-4546-da6f-8575097c398e"
      },
      "execution_count": 30,
      "outputs": [
        {
          "output_type": "execute_result",
          "data": {
            "text/plain": [
              "1.0    180\n",
              "2.0    119\n",
              "Name: surgery?, dtype: int64"
            ]
          },
          "metadata": {},
          "execution_count": 30
        }
      ]
    },
    {
      "cell_type": "code",
      "source": [
        "plt.figure(figsize=(15,10))\n",
        "df['rectal_temperature'].plot.box()\n",
        "df['pulse'].plot.box()"
      ],
      "metadata": {
        "colab": {
          "base_uri": "https://localhost:8080/",
          "height": 610
        },
        "id": "mOBqwJy6Hj0K",
        "outputId": "5465bdc2-7d47-4564-f795-65913379996f"
      },
      "execution_count": 15,
      "outputs": [
        {
          "output_type": "execute_result",
          "data": {
            "text/plain": [
              "<matplotlib.axes._subplots.AxesSubplot at 0x7fb3a63bc700>"
            ]
          },
          "metadata": {},
          "execution_count": 15
        },
        {
          "output_type": "display_data",
          "data": {
            "text/plain": [
              "<Figure size 1080x720 with 1 Axes>"
            ],
            "image/png": "[encoded data removed]"
          },
          "metadata": {
            "needs_background": "light"
          }
        }
      ]
    },
    {
      "cell_type": "code",
      "source": [
        "plt.figure(figsize=(15,10))\n",
        "sns.countplot(data=df, x='outcome')"
      ],
      "metadata": {
        "colab": {
          "base_uri": "https://localhost:8080/",
          "height": 624
        },
        "id": "L3fTf29iLbeh",
        "outputId": "6333e68a-5025-45a5-f21b-4a42225670f0"
      },
      "execution_count": 16,
      "outputs": [
        {
          "output_type": "execute_result",
          "data": {
            "text/plain": [
              "<matplotlib.axes._subplots.AxesSubplot at 0x7fb3a63b7a60>"
            ]
          },
          "metadata": {},
          "execution_count": 16
        },
        {
          "output_type": "display_data",
          "data": {
            "text/plain": [
              "<Figure size 1080x720 with 1 Axes>"
            ],
            "image/png": "[encoded data removed]"
          },
          "metadata": {
            "needs_background": "light"
          }
        }
      ]
    },
    {
      "cell_type": "code",
      "source": [
        "plt.figure(figsize=(25,10))\n",
        "sns.countplot(data=df, x='pulse')"
      ],
      "metadata": {
        "colab": {
          "base_uri": "https://localhost:8080/",
          "height": 624
        },
        "id": "vxGSR9R3Acdc",
        "outputId": "91a956f1-c2f8-4a22-93bb-bce8f3fc21da"
      },
      "execution_count": 32,
      "outputs": [
        {
          "output_type": "execute_result",
          "data": {
            "text/plain": [
              "<matplotlib.axes._subplots.AxesSubplot at 0x7fb3a71cbb20>"
            ]
          },
          "metadata": {},
          "execution_count": 32
        },
        {
          "output_type": "display_data",
          "data": {
            "text/plain": [
              "<Figure size 1800x720 with 1 Axes>"
            ],
            "image/png": "[encoded data removed]"
          },
          "metadata": {
            "needs_background": "light"
          }
        }
      ]
    },
    {
      "cell_type": "markdown",
      "source": [
        "\n",
        "Подавляющее большинство погибших лошадей испытывали боль. Лошади, подвергшиеся эвтаназии, испытывали сильную или депрессивную боль.\n",
        "Из всех лошадей, которые умерли и не подверглись хирургическому вмешательству, большинство испытывало сильную боль.\n",
        "\n",
        "У большинства погибших лошадей пульс составлял примерно 80-100 ударов в минуту.\n",
        "\n",
        "\n"
      ],
      "metadata": {
        "id": "495QDWw8J9CO"
      }
    },
    {
      "cell_type": "code",
      "source": [
        "g = sns.catplot(data=df, x='rectal_temperature', col='outcome', hue='surgery?', kind='count');\n",
        "g.fig.suptitle('Outcome by rectal_temperature & Surgery');\n",
        "plt.subplots_adjust(top=0.9)"
      ],
      "metadata": {
        "colab": {
          "base_uri": "https://localhost:8080/",
          "height": 373
        },
        "id": "pc2jt7HYJs5O",
        "outputId": "ab1d2cb2-0e3b-4f27-992c-80e71d94475f"
      },
      "execution_count": null,
      "outputs": [
        {
          "output_type": "display_data",
          "data": {
            "text/plain": [
              "<Figure size 1131.88x360 with 3 Axes>"
            ],
            "image/png": "[encoded data removed]"
          },
          "metadata": {
            "needs_background": "light"
          }
        }
      ]
    },
    {
      "cell_type": "code",
      "source": [
        "g = sns.catplot(data=df, x='pulse', col='outcome', kind='count');\n",
        "g.fig.suptitle('Outcome by Pulse');\n",
        "plt.subplots_adjust(top=0.9)"
      ],
      "metadata": {
        "colab": {
          "base_uri": "https://localhost:8080/",
          "height": 373
        },
        "id": "EH0VCvSJKRyn",
        "outputId": "a73402e5-ec3f-47f5-ba20-caa3ec87a7be"
      },
      "execution_count": null,
      "outputs": [
        {
          "output_type": "display_data",
          "data": {
            "text/plain": [
              "<Figure size 1080x360 with 3 Axes>"
            ],
            "image/png": "[encoded data removed]"
          },
          "metadata": {
            "needs_background": "light"
          }
        }
      ]
    },
    {
      "cell_type": "markdown",
      "source": [
        "Много пропущенных  данных в dataset, заполним их данными, которые меньше исказят данные - заполним средними и модами"
      ],
      "metadata": {
        "id": "WrfJ6sv-6bUm"
      }
    },
    {
      "cell_type": "code",
      "source": [
        "\n",
        "df.pulse = df.pulse.fillna(value=df.pulse.mean())\n",
        "df.respiratory_rate = df.respiratory_rate.fillna(value=df.respiratory_rate.mean())\n",
        "df.temperature_of_extremities = df.temperature_of_extremities.fillna(value=df.temperature_of_extremities.mode()[0])\n",
        "df.rectal_temperature = df.rectal_temperature.fillna(value=df.rectal_temperature.mean())\n",
        "df.pain = df.pain.fillna(value=df.pain.mode()[0])\n",
        "df.sample(5)"
      ],
      "metadata": {
        "colab": {
          "base_uri": "https://localhost:8080/",
          "height": 206
        },
        "id": "QAzCA0RhJZHr",
        "outputId": "2954cde5-283b-4344-a33b-81202736283b"
      },
      "execution_count": 18,
      "outputs": [
        {
          "output_type": "execute_result",
          "data": {
            "text/plain": [
              "     surgery?  age  rectal_temperature  pulse  respiratory_rate  \\\n",
              "225       2.0    1           38.400000   54.0         24.000000   \n",
              "153       2.0    1           38.600000   48.0         20.000000   \n",
              "282       1.0    1           38.167917   70.0         16.000000   \n",
              "152       1.0    1           38.167917  100.0         30.417355   \n",
              "267       2.0    1           38.300000   54.0         18.000000   \n",
              "\n",
              "     temperature_of_extremities  pain  outcome  \n",
              "225                         1.0   1.0      1.0  \n",
              "153                         3.0   1.0      1.0  \n",
              "282                         3.0   2.0      2.0  \n",
              "152                         3.0   3.0      1.0  \n",
              "267                         3.0   2.0      1.0  "
            ],
            "text/html": [
              "\n",
              "  <div id=\"df-cc0fdf59-de4c-45aa-af4f-c1f493ad52fa\">\n",
              "    <div class=\"colab-df-container\">\n",
              "      <div>\n",
              "<style scoped>\n",
              "    .dataframe tbody tr th:only-of-type {\n",
              "        vertical-align: middle;\n",
              "    }\n",
              "\n",
              "    .dataframe tbody tr th {\n",
              "        vertical-align: top;\n",
              "    }\n",
              "\n",
              "    .dataframe thead th {\n",
              "        text-align: right;\n",
              "    }\n",
              "</style>\n",
              "<table border=\"1\" class=\"dataframe\">\n",
              "  <thead>\n",
              "    <tr style=\"text-align: right;\">\n",
              "      <th></th>\n",
              "      <th>surgery?</th>\n",
              "      <th>age</th>\n",
              "      <th>rectal_temperature</th>\n",
              "      <th>pulse</th>\n",
              "      <th>respiratory_rate</th>\n",
              "      <th>temperature_of_extremities</th>\n",
              "      <th>pain</th>\n",
              "      <th>outcome</th>\n",
              "    </tr>\n",
              "  </thead>\n",
              "  <tbody>\n",
              "    <tr>\n",
              "      <th>225</th>\n",
              "      <td>2.0</td>\n",
              "      <td>1</td>\n",
              "      <td>38.400000</td>\n",
              "      <td>54.0</td>\n",
              "      <td>24.000000</td>\n",
              "      <td>1.0</td>\n",
              "      <td>1.0</td>\n",
              "      <td>1.0</td>\n",
              "    </tr>\n",
              "    <tr>\n",
              "      <th>153</th>\n",
              "      <td>2.0</td>\n",
              "      <td>1</td>\n",
              "      <td>38.600000</td>\n",
              "      <td>48.0</td>\n",
              "      <td>20.000000</td>\n",
              "      <td>3.0</td>\n",
              "      <td>1.0</td>\n",
              "      <td>1.0</td>\n",
              "    </tr>\n",
              "    <tr>\n",
              "      <th>282</th>\n",
              "      <td>1.0</td>\n",
              "      <td>1</td>\n",
              "      <td>38.167917</td>\n",
              "      <td>70.0</td>\n",
              "      <td>16.000000</td>\n",
              "      <td>3.0</td>\n",
              "      <td>2.0</td>\n",
              "      <td>2.0</td>\n",
              "    </tr>\n",
              "    <tr>\n",
              "      <th>152</th>\n",
              "      <td>1.0</td>\n",
              "      <td>1</td>\n",
              "      <td>38.167917</td>\n",
              "      <td>100.0</td>\n",
              "      <td>30.417355</td>\n",
              "      <td>3.0</td>\n",
              "      <td>3.0</td>\n",
              "      <td>1.0</td>\n",
              "    </tr>\n",
              "    <tr>\n",
              "      <th>267</th>\n",
              "      <td>2.0</td>\n",
              "      <td>1</td>\n",
              "      <td>38.300000</td>\n",
              "      <td>54.0</td>\n",
              "      <td>18.000000</td>\n",
              "      <td>3.0</td>\n",
              "      <td>2.0</td>\n",
              "      <td>1.0</td>\n",
              "    </tr>\n",
              "  </tbody>\n",
              "</table>\n",
              "</div>\n",
              "      <button class=\"colab-df-convert\" onclick=\"convertToInteractive('df-cc0fdf59-de4c-45aa-af4f-c1f493ad52fa')\"\n",
              "              title=\"Convert this dataframe to an interactive table.\"\n",
              "              style=\"display:none;\">\n",
              "        \n",
              "  <svg xmlns=\"http://www.w3.org/2000/svg\" height=\"24px\"viewBox=\"0 0 24 24\"\n",
              "       width=\"24px\">\n",
              "    <path d=\"M0 0h24v24H0V0z\" fill=\"none\"/>\n",
              "    <path d=\"M18.56 5.44l.94 2.06.94-2.06 2.06-.94-2.06-.94-.94-2.06-.94 2.06-2.06.94zm-11 1L8.5 8.5l.94-2.06 2.06-.94-2.06-.94L8.5 2.5l-.94 2.06-2.06.94zm10 10l.94 2.06.94-2.06 2.06-.94-2.06-.94-.94-2.06-.94 2.06-2.06.94z\"/><path d=\"M17.41 7.96l-1.37-1.37c-.4-.4-.92-.59-1.43-.59-.52 0-1.04.2-1.43.59L10.3 9.45l-7.72 7.72c-.78.78-.78 2.05 0 2.83L4 21.41c.39.39.9.59 1.41.59.51 0 1.02-.2 1.41-.59l7.78-7.78 2.81-2.81c.8-.78.8-2.07 0-2.86zM5.41 20L4 18.59l7.72-7.72 1.47 1.35L5.41 20z\"/>\n",
              "  </svg>\n",
              "      </button>\n",
              "      \n",
              "  <style>\n",
              "    .colab-df-container {\n",
              "      display:flex;\n",
              "      flex-wrap:wrap;\n",
              "      gap: 12px;\n",
              "    }\n",
              "\n",
              "    .colab-df-convert {\n",
              "      background-color: #E8F0FE;\n",
              "      border: none;\n",
              "      border-radius: 50%;\n",
              "      cursor: pointer;\n",
              "      display: none;\n",
              "      fill: #1967D2;\n",
              "      height: 32px;\n",
              "      padding: 0 0 0 0;\n",
              "      width: 32px;\n",
              "    }\n",
              "\n",
              "    .colab-df-convert:hover {\n",
              "      background-color: #E2EBFA;\n",
              "      box-shadow: 0px 1px 2px rgba(60, 64, 67, 0.3), 0px 1px 3px 1px rgba(60, 64, 67, 0.15);\n",
              "      fill: #174EA6;\n",
              "    }\n",
              "\n",
              "    [theme=dark] .colab-df-convert {\n",
              "      background-color: #3B4455;\n",
              "      fill: #D2E3FC;\n",
              "    }\n",
              "\n",
              "    [theme=dark] .colab-df-convert:hover {\n",
              "      background-color: #434B5C;\n",
              "      box-shadow: 0px 1px 3px 1px rgba(0, 0, 0, 0.15);\n",
              "      filter: drop-shadow(0px 1px 2px rgba(0, 0, 0, 0.3));\n",
              "      fill: #FFFFFF;\n",
              "    }\n",
              "  </style>\n",
              "\n",
              "      <script>\n",
              "        const buttonEl =\n",
              "          document.querySelector('#df-cc0fdf59-de4c-45aa-af4f-c1f493ad52fa button.colab-df-convert');\n",
              "        buttonEl.style.display =\n",
              "          google.colab.kernel.accessAllowed ? 'block' : 'none';\n",
              "\n",
              "        async function convertToInteractive(key) {\n",
              "          const element = document.querySelector('#df-cc0fdf59-de4c-45aa-af4f-c1f493ad52fa');\n",
              "          const dataTable =\n",
              "            await google.colab.kernel.invokeFunction('convertToInteractive',\n",
              "                                                     [key], {});\n",
              "          if (!dataTable) return;\n",
              "\n",
              "          const docLinkHtml = 'Like what you see? Visit the ' +\n",
              "            '<a target=\"_blank\" href=https://colab.research.google.com/notebooks/data_table.ipynb>data table notebook</a>'\n",
              "            + ' to learn more about interactive tables.';\n",
              "          element.innerHTML = '';\n",
              "          dataTable['output_type'] = 'display_data';\n",
              "          await google.colab.output.renderOutput(dataTable, element);\n",
              "          const docLink = document.createElement('div');\n",
              "          docLink.innerHTML = docLinkHtml;\n",
              "          element.appendChild(docLink);\n",
              "        }\n",
              "      </script>\n",
              "    </div>\n",
              "  </div>\n",
              "  "
            ]
          },
          "metadata": {},
          "execution_count": 18
        }
      ]
    },
    {
      "cell_type": "code",
      "source": [
        "df.isna().sum()"
      ],
      "metadata": {
        "colab": {
          "base_uri": "https://localhost:8080/"
        },
        "id": "0mJu3S8UFxG1",
        "outputId": "e57b782d-3ca1-4091-893d-ffbf397e00b2"
      },
      "execution_count": 20,
      "outputs": [
        {
          "output_type": "execute_result",
          "data": {
            "text/plain": [
              "surgery?                      1\n",
              "age                           0\n",
              "rectal_temperature            0\n",
              "pulse                         0\n",
              "respiratory_rate              0\n",
              "temperature_of_extremities    0\n",
              "pain                          0\n",
              "outcome                       1\n",
              "dtype: int64"
            ]
          },
          "metadata": {},
          "execution_count": 20
        }
      ]
    },
    {
      "cell_type": "code",
      "source": [
        "# Удалим - с неизвестным исходом\n",
        "df[df['surgery?'].isna()]\n",
        "df.drop(index=132,inplace=True)\n",
        "df.isna().sum()\n"
      ],
      "metadata": {
        "colab": {
          "base_uri": "https://localhost:8080/"
        },
        "id": "uxRwmDJG8rXW",
        "outputId": "d0148b28-ad9c-4fe6-bfd9-57213dcd7c7a"
      },
      "execution_count": 23,
      "outputs": [
        {
          "output_type": "execute_result",
          "data": {
            "text/plain": [
              "surgery?                      0\n",
              "age                           0\n",
              "rectal_temperature            0\n",
              "pulse                         0\n",
              "respiratory_rate              0\n",
              "temperature_of_extremities    0\n",
              "pain                          0\n",
              "outcome                       0\n",
              "dtype: int64"
            ]
          },
          "metadata": {},
          "execution_count": 23
        }
      ]
    },
    {
      "cell_type": "markdown",
      "source": [
        "Попробуем (поскольку о больных лошадках знаем меньше чем ничего!) применить к эттим данным несколько моделей ML\n",
        "\n",
        "PS:(результат, конечно разочарует) - на полном датасете из Kaggle он повыше."
      ],
      "metadata": {
        "id": "8hFtcDx891xa"
      }
    },
    {
      "cell_type": "code",
      "source": [
        "# Импортируем модели (с запасом  :)\n",
        "\n",
        "from sklearn.linear_model import LogisticRegression\n",
        "# from sklearn.tree import DecisionTreeClassifier\n",
        "# from sklearn.tree import export_graphviz\n",
        "# from sklearn.ensemble import RandomForestClassifier\n",
        "# from sklearn.ensemble import GradientBoostingClassifier \n",
        "from sklearn.neighbors import KNeighborsClassifier\n",
        "\n",
        "from sklearn.model_selection import train_test_split\n",
        "from sklearn.model_selection import cross_val_score\n",
        "# from sklearn.pipeline import Pipeline\n",
        "\n",
        "# from sklearn.preprocessing import StandardScaler\n",
        "from sklearn.metrics import confusion_matrix\n",
        "\n",
        "# from sklearn import preprocessing\n",
        "# from sklearn import utils"
      ],
      "metadata": {
        "id": "RhV9YxyNAIcx"
      },
      "execution_count": 24,
      "outputs": []
    },
    {
      "cell_type": "code",
      "source": [
        "# Разделим данные на test и train и выделим то что хотим предсказывать (исход)\n",
        "\n",
        "X = df.loc[:,df.columns!='outcome']\n",
        "y = df['outcome']\n",
        "X_train, X_test, Y_train, Y_test = train_test_split(X, y, test_size=0.4, random_state=0)"
      ],
      "metadata": {
        "id": "HY3upA-8_Xlz"
      },
      "execution_count": 25,
      "outputs": []
    },
    {
      "cell_type": "code",
      "source": [
        "clf = LogisticRegression(random_state=0, solver='lbfgs', multi_class='ovr', max_iter=10000)\n",
        "clf = clf.fit(X_train, Y_train)\n",
        "Y_pred = clf.predict(X_test)\n",
        "log_regr_score1 = clf.score(X_test, Y_test)\n",
        "print('log_regr_score: ',log_regr_score1)\n",
        "confusion_matrix(Y_test,Y_pred)"
      ],
      "metadata": {
        "id": "KqIRgk9uIZj0",
        "colab": {
          "base_uri": "https://localhost:8080/"
        },
        "outputId": "c1c617c6-f02c-4661-e350-19ff8aed9071"
      },
      "execution_count": 27,
      "outputs": [
        {
          "output_type": "stream",
          "name": "stdout",
          "text": [
            "log_regr_score:  0.575\n"
          ]
        },
        {
          "output_type": "execute_result",
          "data": {
            "text/plain": [
              "array([[57, 13,  0],\n",
              "       [17, 11,  1],\n",
              "       [12,  8,  1]])"
            ]
          },
          "metadata": {},
          "execution_count": 27
        }
      ]
    },
    {
      "cell_type": "code",
      "source": [
        "from sklearn.neighbors import KNeighborsClassifier\n",
        "\n",
        "clf = KNeighborsClassifier(n_neighbors=3)\n",
        "clf = clf.fit(X_train, Y_train)\n",
        "Y_pred = clf.predict(X_test)\n",
        "KN_score = clf.score(X_test, Y_test)\n",
        "print('KN_score ', KN_score)\n",
        "confusion_matrix(Y_test, Y_pred)"
      ],
      "metadata": {
        "colab": {
          "base_uri": "https://localhost:8080/"
        },
        "id": "AC66aGJgACNu",
        "outputId": "f46e59e4-bf6f-4eb7-970f-7d0d70166a5c"
      },
      "execution_count": 28,
      "outputs": [
        {
          "output_type": "stream",
          "name": "stdout",
          "text": [
            "KN_score  0.55\n"
          ]
        },
        {
          "output_type": "execute_result",
          "data": {
            "text/plain": [
              "array([[59,  8,  3],\n",
              "       [21,  6,  2],\n",
              "       [14,  6,  1]])"
            ]
          },
          "metadata": {},
          "execution_count": 28
        }
      ]
    },
    {
      "cell_type": "code",
      "source": [
        "from sklearn.naive_bayes import GaussianNB\n",
        "\n",
        "clf = GaussianNB()\n",
        "clf = clf.fit(X_train, Y_train)\n",
        "Y_pred = clf.predict(X_test)\n",
        "NB_score = clf.score(X_test, Y_test)\n",
        "print('NB_score ',NB_score)\n",
        "confusion_matrix(Y_test, Y_pred)"
      ],
      "metadata": {
        "colab": {
          "base_uri": "https://localhost:8080/"
        },
        "id": "E7jfzicbACRN",
        "outputId": "dcd37a3e-5ff0-4e34-9d12-10a6f9ac0e4f"
      },
      "execution_count": 29,
      "outputs": [
        {
          "output_type": "stream",
          "name": "stdout",
          "text": [
            "NB_score  0.575\n"
          ]
        },
        {
          "output_type": "execute_result",
          "data": {
            "text/plain": [
              "array([[53, 15,  2],\n",
              "       [12, 12,  5],\n",
              "       [10,  7,  4]])"
            ]
          },
          "metadata": {},
          "execution_count": 29
        }
      ]
    },
    {
      "cell_type": "code",
      "source": [
        "# PS:(результат неважный) - на полном датасете из Kaggle он у многих повыше на разных моделях"
      ],
      "metadata": {
        "id": "ZOovLfitACU7"
      },
      "execution_count": null,
      "outputs": []
    },
    {
      "cell_type": "code",
      "source": [
        "from google.colab import drive\n",
        "drive.mount('/content/drive', force_remount=True)"
      ],
      "metadata": {
        "colab": {
          "base_uri": "https://localhost:8080/"
        },
        "id": "p6Myb7YRGBMs",
        "outputId": "6a8fc8d9-aa5c-4637-cc4b-47b4aa8256ea"
      },
      "execution_count": 39,
      "outputs": [
        {
          "output_type": "stream",
          "name": "stdout",
          "text": [
            "Mounted at /content/drive\n"
          ]
        }
      ]
    },
    {
      "cell_type": "code",
      "source": [
        "horse_data = '/content/drive/MyDrive/horse.csv'"
      ],
      "metadata": {
        "id": "8d32QikMGGAb"
      },
      "execution_count": 40,
      "outputs": []
    },
    {
      "cell_type": "code",
      "source": [
        "data = pd.read_csv(horse_data)\n",
        "pd.isnull(data).sum()"
      ],
      "metadata": {
        "colab": {
          "base_uri": "https://localhost:8080/"
        },
        "id": "iRnTzHkHCtIH",
        "outputId": "89a041d0-86c5-484b-ba8e-b19db15ec703"
      },
      "execution_count": 42,
      "outputs": [
        {
          "output_type": "execute_result",
          "data": {
            "text/plain": [
              "surgery                    0\n",
              "age                        0\n",
              "hospital_number            0\n",
              "rectal_temp               60\n",
              "pulse                     24\n",
              "respiratory_rate          58\n",
              "temp_of_extremities       56\n",
              "peripheral_pulse          69\n",
              "mucous_membrane           47\n",
              "capillary_refill_time     32\n",
              "pain                      55\n",
              "peristalsis               44\n",
              "abdominal_distention      56\n",
              "nasogastric_tube         104\n",
              "nasogastric_reflux       106\n",
              "nasogastric_reflux_ph    246\n",
              "rectal_exam_feces        102\n",
              "abdomen                  118\n",
              "packed_cell_volume        29\n",
              "total_protein             33\n",
              "abdomo_appearance        165\n",
              "abdomo_protein           198\n",
              "outcome                    0\n",
              "surgical_lesion            0\n",
              "lesion_1                   0\n",
              "lesion_2                   0\n",
              "lesion_3                   0\n",
              "cp_data                    0\n",
              "dtype: int64"
            ]
          },
          "metadata": {},
          "execution_count": 42
        }
      ]
    },
    {
      "cell_type": "code",
      "source": [
        "data = data.dropna(how = 'any', axis = 'rows')\n",
        "pd.isnull(data).sum()"
      ],
      "metadata": {
        "colab": {
          "base_uri": "https://localhost:8080/"
        },
        "id": "H71nnsCkEb3Q",
        "outputId": "51dd818f-9e45-4cec-870f-8b21b561acfc"
      },
      "execution_count": 43,
      "outputs": [
        {
          "output_type": "execute_result",
          "data": {
            "text/plain": [
              "surgery                  0\n",
              "age                      0\n",
              "hospital_number          0\n",
              "rectal_temp              0\n",
              "pulse                    0\n",
              "respiratory_rate         0\n",
              "temp_of_extremities      0\n",
              "peripheral_pulse         0\n",
              "mucous_membrane          0\n",
              "capillary_refill_time    0\n",
              "pain                     0\n",
              "peristalsis              0\n",
              "abdominal_distention     0\n",
              "nasogastric_tube         0\n",
              "nasogastric_reflux       0\n",
              "nasogastric_reflux_ph    0\n",
              "rectal_exam_feces        0\n",
              "abdomen                  0\n",
              "packed_cell_volume       0\n",
              "total_protein            0\n",
              "abdomo_appearance        0\n",
              "abdomo_protein           0\n",
              "outcome                  0\n",
              "surgical_lesion          0\n",
              "lesion_1                 0\n",
              "lesion_2                 0\n",
              "lesion_3                 0\n",
              "cp_data                  0\n",
              "dtype: int64"
            ]
          },
          "metadata": {},
          "execution_count": 43
        }
      ]
    },
    {
      "cell_type": "code",
      "source": [
        "X_train, X_test, y_train, y_test = train_test_split(X, y, random_state=0)"
      ],
      "metadata": {
        "id": "HEbrwME8H5FG"
      },
      "execution_count": 44,
      "outputs": []
    },
    {
      "cell_type": "code",
      "source": [
        "clf = LogisticRegression(random_state=0, solver='lbfgs', multi_class='ovr', max_iter=10000)\n",
        "clf = clf.fit(X_train, y_train)\n",
        "Y_pred = clf.predict(X_test)\n",
        "log_regr_score = clf.score(X_test, y_test)\n",
        "print('log_regr_score: ',log_regr_score)\n",
        "confusion_matrix(y_test, Y_pred)"
      ],
      "metadata": {
        "colab": {
          "base_uri": "https://localhost:8080/"
        },
        "id": "ZgyVhlVsIDMR",
        "outputId": "470eeaba-2df1-41f8-f1bb-f20fb22b4b29"
      },
      "execution_count": 45,
      "outputs": [
        {
          "output_type": "stream",
          "name": "stdout",
          "text": [
            "log_regr_score:  0.6266666666666667\n"
          ]
        },
        {
          "output_type": "execute_result",
          "data": {
            "text/plain": [
              "array([[37,  4,  0],\n",
              "       [ 9,  9,  0],\n",
              "       [10,  5,  1]])"
            ]
          },
          "metadata": {},
          "execution_count": 45
        }
      ]
    },
    {
      "cell_type": "markdown",
      "source": [
        "![TP.png](data:image/png;base64,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)"
      ],
      "metadata": {
        "id": "eDFD0I6_I-QA"
      }
    },
    {
      "cell_type": "markdown",
      "source": [
        "**Тем не менее - грубые прогнозы модель позволяет строить**"
      ],
      "metadata": {
        "id": "loX4HFssKDc8"
      }
    }
  ]
}